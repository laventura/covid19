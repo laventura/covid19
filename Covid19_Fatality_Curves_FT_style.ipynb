{
  "nbformat": 4,
  "nbformat_minor": 0,
  "metadata": {
    "colab": {
      "name": "Covid19-Fatality-Curves-FT-style",
      "provenance": [],
      "collapsed_sections": [],
      "authorship_tag": "ABX9TyMpqDIy9sJvol04vanfcaqM",
      "include_colab_link": true
    },
    "kernelspec": {
      "name": "python3",
      "display_name": "Python 3"
    }
  },
  "cells": [
    {
      "cell_type": "markdown",
      "metadata": {
        "id": "view-in-github",
        "colab_type": "text"
      },
      "source": [
        "<a href=\"https://colab.research.google.com/github/laventura/covid19/blob/master/Covid19_Fatality_Curves_FT_style.ipynb\" target=\"_parent\"><img src=\"https://colab.research.google.com/assets/colab-badge.svg\" alt=\"Open In Colab\"/></a>"
      ]
    },
    {
      "cell_type": "markdown",
      "metadata": {
        "id": "oYNsG62h9SGA",
        "colab_type": "text"
      },
      "source": [
        "# Covid-19 Fatality Curves (FT-style chart)\n",
        "\n",
        "Compare fatality curves of Covid-19 cases, by country, creating a FT-style chart\n",
        "\n",
        "* Author: Atul Acharya\n",
        "* Credit: code based on Pratap Vardhan. Visualization original: John Burn-Murdoch (@jburnmurdoch) of Financial Times\n",
        "* categories: [growth, fatalities, interactive]\n"
      ]
    },
    {
      "cell_type": "code",
      "metadata": {
        "id": "ixzJgSAC9Xv0",
        "colab_type": "code",
        "colab": {}
      },
      "source": [
        "#hide\n",
        "import pandas as pd\n",
        "import altair as alt\n",
        "import numpy as np\n",
        "from IPython.display import HTML"
      ],
      "execution_count": 0,
      "outputs": []
    },
    {
      "cell_type": "code",
      "metadata": {
        "id": "iMRx_F1J-Dni",
        "colab_type": "code",
        "colab": {}
      },
      "source": [
        "#hide\n",
        "url = ('https://raw.githubusercontent.com/CSSEGISandData/COVID-19/master/csse_covid_19_data/'\n",
        "       'csse_covid_19_time_series/time_series_covid19_deaths_global.csv')\n",
        "df = pd.read_csv(url)\n"
      ],
      "execution_count": 0,
      "outputs": []
    },
    {
      "cell_type": "code",
      "metadata": {
        "id": "v194Z8nJ-NTH",
        "colab_type": "code",
        "colab": {}
      },
      "source": [
        "#hide\n",
        "# rename countries\n",
        "df.rename(columns={'Country/Region': 'Country'}, inplace=True)\n",
        "df['Country'] = df['Country'].replace({'Korea, South': 'South Korea'})\n",
        "df = df[~df['Country'].isin(['Cruise Ship', 'Diamond Princess'])]   # Remove Ships\n",
        "# drop unwanted columns\n",
        "df.drop(columns=['Province/State', 'Lat', 'Long'], inplace=True)\n"
      ],
      "execution_count": 0,
      "outputs": []
    },
    {
      "cell_type": "code",
      "metadata": {
        "id": "Dn7P2xHN-dQT",
        "colab_type": "code",
        "colab": {}
      },
      "source": [
        "#hide\n",
        "date_cols = df.columns[~df.columns.isin(['Country'])]\n",
        "## reformat table to group columns by country\n",
        "df_country = (df.groupby('Country')[date_cols].sum())\n",
        "COL_CONFIRMED_DEATHS = 'Confirmed Deaths'\n",
        "df_country = df_country.stack().reset_index(name=COL_CONFIRMED_DEATHS)\n",
        "df_country = df_country.rename(columns={'level_1': 'Date'})\n",
        "df_country['Date'] = pd.to_datetime(df_country['Date'], format='%m/%d/%y')"
      ],
      "execution_count": 0,
      "outputs": []
    },
    {
      "cell_type": "code",
      "metadata": {
        "id": "STmKbi_M_Kj3",
        "colab_type": "code",
        "colab": {}
      },
      "source": [
        "#hide\n",
        "## minimum cases\n",
        "MIN_CASES = 10\n",
        "LAST_DATE = date_cols[-1]\n",
        "\n",
        "#someties last col may be empty; if so, go backwards\n",
        "for c in date_cols[::-1]:\n",
        "  if not df[c].fillna(0).eq(0).all():\n",
        "    LAST_DATE = c\n",
        "    break\n"
      ],
      "execution_count": 0,
      "outputs": []
    },
    {
      "cell_type": "code",
      "metadata": {
        "id": "A2ykZSGq_U3C",
        "colab_type": "code",
        "colab": {}
      },
      "source": [
        "#hide \n",
        "## get list of countries where MIN_CASES is met\n",
        "countries = df_country[df_country['Date'].eq(LAST_DATE) & \n",
        "                       df_country[COL_CONFIRMED_DEATHS].ge(MIN_CASES)].sort_values(by=COL_CONFIRMED_DEATHS, ascending=False)\n",
        "countries = countries['Country'].values"
      ],
      "execution_count": 0,
      "outputs": []
    },
    {
      "cell_type": "code",
      "metadata": {
        "id": "ftX0XeM7ZUVL",
        "colab_type": "code",
        "colab": {
          "base_uri": "https://localhost:8080/",
          "height": 204
        },
        "outputId": "607b10ad-b28c-4529-ce8f-68204e0bf003"
      },
      "source": [
        "countries"
      ],
      "execution_count": 7,
      "outputs": [
        {
          "output_type": "execute_result",
          "data": {
            "text/plain": [
              "array(['Italy', 'Spain', 'China', 'France', 'US', 'Iran',\n",
              "       'United Kingdom', 'Netherlands', 'Germany', 'Belgium',\n",
              "       'Switzerland', 'Turkey', 'Brazil', 'South Korea', 'Sweden',\n",
              "       'Portugal', 'Indonesia', 'Austria', 'Canada', 'Philippines',\n",
              "       'Denmark', 'Romania', 'Ecuador', 'Ireland', 'Japan', 'Iraq',\n",
              "       'Greece', 'Dominican Republic', 'Egypt', 'Malaysia', 'Algeria',\n",
              "       'Morocco', 'Norway', 'India', 'Poland', 'San Marino', 'Panama',\n",
              "       'Peru', 'Czechia', 'Argentina', 'Luxembourg', 'Pakistan', 'Mexico',\n",
              "       'Australia', 'Serbia', 'Israel', 'Hungary', 'Finland', 'Ukraine',\n",
              "       'Colombia', 'Burkina Faso', 'Slovenia', 'Lebanon', 'Albania',\n",
              "       'Bosnia and Herzegovina'], dtype=object)"
            ]
          },
          "metadata": {
            "tags": []
          },
          "execution_count": 7
        }
      ]
    },
    {
      "cell_type": "code",
      "metadata": {
        "id": "T-zXHQPv_nBA",
        "colab_type": "code",
        "colab": {}
      },
      "source": [
        "#hide\n",
        "## for countries with > 10 Fatalities\n",
        "SINCE_CASES_MIN = 10  # Days since at least 10 fatalities\n",
        "COL_X = f'Days since {SINCE_CASES_MIN}th fatality'\n",
        "\n",
        "#new df\n",
        "dff2 = df_country[df_country['Country'].isin(countries)].copy()\n",
        "\n",
        "days_since = dff2.assign(\n",
        "      F=dff2[COL_CONFIRMED_DEATHS].ge(SINCE_CASES_MIN)\n",
        "    ).set_index('Date').groupby('Country')['F'].transform('idxmax')"
      ],
      "execution_count": 0,
      "outputs": []
    },
    {
      "cell_type": "code",
      "metadata": {
        "id": "toBsS9m1AoN-",
        "colab_type": "code",
        "colab": {}
      },
      "source": [
        "#hide\n",
        "# \n",
        "dff2[COL_X] = (dff2['Date'] - days_since.values).dt.days.values\n",
        "# keep only countries > 10 fatalities\n",
        "dff2 = dff2[dff2[COL_X].ge(0)]"
      ],
      "execution_count": 0,
      "outputs": []
    },
    {
      "cell_type": "code",
      "metadata": {
        "id": "UOQbO6buCK4N",
        "colab_type": "code",
        "colab": {}
      },
      "source": [
        "#hide\n",
        "# color mapping for countries\n",
        "def get_country_colors(x):\n",
        "    mapping = {\n",
        "        'Italy': 'black',\n",
        "        'Iran': '#A1BA59',\n",
        "        'South Korea': '#E45756',\n",
        "        'Spain': '#F58518',\n",
        "        'Germany': '#9D755D',\n",
        "        'France': '#9B1005',\n",
        "        'China': '#F3A514',\n",
        "        'US': '#2495D3',\n",
        "        'Switzerland': '#9D755D',\n",
        "        'Norway': '#C1B7AD',\n",
        "        'United Kingdom': '#2495D3',\n",
        "        'Netherlands': '#C1B7AD',\n",
        "        'Sweden': '#C1B7AD',\n",
        "        'Belgium': '#C1B7AD',\n",
        "        'Denmark': '#C1B7AD',\n",
        "        'Austria': '#C1B7AD',\n",
        "        'Japan': '#9467bd'}\n",
        "    return mapping.get(x, '#C1B7AD')"
      ],
      "execution_count": 0,
      "outputs": []
    },
    {
      "cell_type": "code",
      "metadata": {
        "id": "vGhAS6mcCc4X",
        "colab_type": "code",
        "colab": {}
      },
      "source": [
        "#hide\n",
        "\n",
        "# baseline countries -  interesting ones\n",
        "base_countries = ['Italy', 'US', 'United Kingdom', 'South Korea', 'Japan', 'China']\n",
        "\n",
        "max_date = dff2['Date'].max()\n",
        "\n",
        "color_domain = list(dff2['Country'].unique())\n",
        "color_range  = list(map(get_country_colors, color_domain))\n",
        "\n",
        "COL_Y_CUMU_DEATHS = 'Cumulative Fatalities'"
      ],
      "execution_count": 0,
      "outputs": []
    },
    {
      "cell_type": "markdown",
      "metadata": {
        "id": "a6YTdQBwX1Id",
        "colab_type": "text"
      },
      "source": [
        "## Fatatilies growth trajectory - US, UK, Spain, Italy, S. Korea\n",
        "\n",
        "Recent trends since last week (Mar 27th onwards) have shown number of cases, and deaths, in the US accelerating. How are the growth curves evolving so far?\n",
        "\n",
        "From the chart below, it appears that:\n",
        "* UK's covid-19 fatalities are doubling ~2.1 days\n",
        "* US fatalities are doubling once every ~3 days\n",
        "* Spain's fatalities, which were growing fast, are now stabilising to double every ~2.3 days"
      ]
    },
    {
      "cell_type": "code",
      "metadata": {
        "id": "gSL69g0UYMCN",
        "colab_type": "code",
        "colab": {
          "base_uri": "https://localhost:8080/",
          "height": 34
        },
        "outputId": "828c9a3e-1a26-44dc-f4d5-187954d2b3ba"
      },
      "source": [
        "#hide_input\n",
        "HTML(f'<small class=\"float-right\">Last updated on {pd.to_datetime(LAST_DATE).strftime(\"%B, %d %Y\")}</small>')"
      ],
      "execution_count": 12,
      "outputs": [
        {
          "output_type": "execute_result",
          "data": {
            "text/html": [
              "<small class=\"float-right\">Last updated on March, 30 2020</small>"
            ],
            "text/plain": [
              "<IPython.core.display.HTML object>"
            ]
          },
          "metadata": {
            "tags": []
          },
          "execution_count": 12
        }
      ]
    },
    {
      "cell_type": "code",
      "metadata": {
        "id": "znC66SVXYQ6V",
        "colab_type": "code",
        "colab": {}
      },
      "source": [
        "#hide\n",
        "#### Make fatalities growth curves, with FT-style chart\n",
        "\n",
        "def make_fatality_curves_chart(highlight_countries=['France', 'Spain', 'United Kingdom'], baseline_countries=base_countries):\n",
        "  '''\n",
        "  '''\n",
        "  # A. selection\n",
        "  selection = alt.selection_multi(fields=['Country'],\n",
        "                                  bind='legend',\n",
        "                                  init=[{'Country': c} for c in highlight_countries + baseline_countries])\n",
        "  \n",
        "  # B. base chart\n",
        "  base_chart = alt.Chart(dff2, width=800, height=500).encode(\n",
        "      x=alt.X(f'{COL_X}:Q',\n",
        "              scale=alt.Scale(domain=(0,40))),  # upto 40 days \n",
        "      y=alt.Y(f'{COL_CONFIRMED_DEATHS}:Q', \n",
        "              scale=alt.Scale(type='log', domain=(10,30_000)),  # up to 30K\n",
        "              axis=alt.Axis(title=COL_Y_CUMU_DEATHS)),\n",
        "      color=alt.Color(\n",
        "          'Country:N',\n",
        "          scale=alt.Scale(domain=color_domain, range=color_range),\n",
        "          legend=alt.Legend(columns=len(color_domain)//15+1, symbolLimit=len(color_domain))),\n",
        "      tooltip=list(dff2),\n",
        "      opacity=alt.condition(selection, alt.value(1), alt.value(0.05))\n",
        "  )\n",
        "\n",
        "  # C. ref growth lines: series that double every d days\n",
        "  max_day = dff2[COL_X].max()\n",
        "  Xs = [x for x in range(0, max_day+1)]\n",
        "\n",
        "  # exp growth rate, k; for doublings every 'd' day\n",
        "  Ks = [np.log(2) / d for d in [1, 2, 3, 7]]\n",
        "  # daily growth rate (%)\n",
        "  Rs = [np.exp(k) - 1 for k in Ks]   \n",
        "\n",
        "  #columns for ref growth lines\n",
        "  Ys = ['a1', 'a2', 'a3', 'a7']\n",
        "  ref_colors = ['#9494B8', '#B3B3CC', '#D1D1E0', '#E0E0EB']\n",
        "  yseries = []\n",
        "  for r in Rs:\n",
        "    y = [SINCE_CASES_MIN * (1+r)**t for t in range(0, max_day+1)]\n",
        "    yseries.append(y)\n",
        "  # create a DF with growth lines\n",
        "  ref_growth_df = pd.DataFrame({COL_X: Xs,\n",
        "                    Ys[0]: yseries[0],\n",
        "                    Ys[1]: yseries[1],\n",
        "                    Ys[2]: yseries[2],\n",
        "                    Ys[3]: yseries[3]})\n",
        "  # D. ref growth lines chart\n",
        "  ref_growth_base = alt.Chart(ref_growth_df).transform_fold(\n",
        "      Ys,\n",
        "  ).mark_line(clip=True, strokeDash=[2,2]).encode(\n",
        "      alt.X(f'{COL_X}:Q', scale=alt.Scale(domain=(0,40))),  # only upto N days on X-axis\n",
        "      alt.Y('value:Q', scale=alt.Scale(type='log', domain=(10,30_000))),  # up to N on y-axis\n",
        "      color=alt.Color(\n",
        "        'key:N',\n",
        "        scale=alt.Scale(domain=Ys, range=ref_colors), legend=None),\n",
        "      # dont really need any condition; it is junk\n",
        "      opacity=alt.condition(alt.FieldEqualPredicate(field='y1',equal=1), alt.value(0.5), alt.value(0.5)),\n",
        "  )\n",
        "\n",
        "  # E. Ref lines text - a lot of hardcoding for alignment\n",
        "  rdf1 = pd.DataFrame({COL_X: [10], 'value': 20_000 })\n",
        "  rtxt1 = alt.Chart(rdf1).mark_point(\n",
        "      filled=False, color='white').encode(x=COL_X,y='value').mark_text(\n",
        "          text='DEATHS DOUBLE EVERY DAY',\n",
        "          align='center',\n",
        "          angle=299, \n",
        "          dy=5,\n",
        "          color='gray',\n",
        "          opacity=0.5\n",
        "      )\n",
        "  rdf2 = pd.DataFrame({COL_X: [22], 'value': 30_000 })\n",
        "  rtxt2 = alt.Chart(rdf2).mark_point(\n",
        "      filled=False, color='white').encode(x=COL_X,y='value').mark_text(\n",
        "          text='...EVERY 2 DAYS',\n",
        "          align='left',\n",
        "          angle=318, \n",
        "          dy=5,\n",
        "          color='gray',\n",
        "          opacity=0.5\n",
        "      )\n",
        "  rdf3 = pd.DataFrame({COL_X: [36], 'value': 50_000 })\n",
        "  rtxt3 = alt.Chart(rdf3).mark_point(\n",
        "      filled=False, color='white').encode(x=COL_X,y='value').mark_text(\n",
        "          text='...EVERY 3 DAYS',\n",
        "          align='center',\n",
        "          angle=326, \n",
        "          dy=-2,\n",
        "          color='gray',\n",
        "          opacity=0.5\n",
        "      )\n",
        "  rdf4 = pd.DataFrame({COL_X: [36], 'value': 400 })\n",
        "  rtxt4 = alt.Chart(rdf4).mark_point(\n",
        "      filled=False, color='white').encode(x=COL_X,y='value').mark_text(\n",
        "          text='...EVERY WEEK',\n",
        "          align='left',\n",
        "          angle=342,\n",
        "          dy=-2,\n",
        "          color='gray',\n",
        "          opacity=0.5\n",
        "      )\n",
        "\n",
        "  # F. add actual growth curves to chart\n",
        "  full_chart = (\n",
        "      \n",
        "      # base curves\n",
        "      base_chart.mark_line(point=True, clip=True).add_selection(selection) + \n",
        "      # mark country names, excl China\n",
        "      base_chart.transform_filter(\n",
        "        alt.datum['Country'] != 'China' &\n",
        "        alt.datum['Date'] >= int(max_date.timestamp() * 1000)  # write country code at end of line\n",
        "      ).mark_text(dy=-8, align='right').encode(text='Country:N') + \n",
        "      # mark China\n",
        "      base_chart.transform_filter( \n",
        "          alt.datum['Country'] == 'China' & \n",
        "          alt.datum[COL_X] == 38 & \n",
        "          alt.datum[COL_CONFIRMED_DEATHS] == 2837\n",
        "      ).mark_text(align='center', dy=-8).encode(text='Country:N') + \n",
        "      # ref growth lines - add this at the end\n",
        "      ref_growth_base +\n",
        "      # add the text for ref growth lines\n",
        "      rtxt1 + \n",
        "      rtxt2 + \n",
        "      rtxt3 + \n",
        "      rtxt4\n",
        "  ).properties(\n",
        "      title=f\"Coronoavirus Deaths in Countries\",\n",
        "  ).configure_title(\n",
        "      font='Helvetica Neue',\n",
        "      fontSize=20,\n",
        "      anchor='middle',\n",
        "      color='gray'\n",
        "  ).configure_legend(\n",
        "      labelFontSize=13, \n",
        "      titleFontSize=15\n",
        "  ).configure_axis(\n",
        "      labelFontSize=13, \n",
        "      titleFontSize=15\n",
        "  ).configure_view(\n",
        "      fill='#FFF1E4', # FT bg color\n",
        "  )\n",
        "\n",
        "  return full_chart"
      ],
      "execution_count": 0,
      "outputs": []
    },
    {
      "cell_type": "code",
      "metadata": {
        "id": "pmpQfMEOYsNv",
        "colab_type": "code",
        "colab": {
          "base_uri": "https://localhost:8080/",
          "height": 620
        },
        "outputId": "fe9fe8c9-a52c-4e94-e597-ae3fa805cc7c"
      },
      "source": [
        "chart1 = make_fatality_curves_chart()\n",
        "chart1"
      ],
      "execution_count": 14,
      "outputs": [
        {
          "output_type": "execute_result",
          "data": {
            "text/plain": [
              "alt.LayerChart(...)"
            ],
            "text/html": [
              "\n",
              "<div id=\"altair-viz-de722987a5424bcf9e1038c62d807b5e\"></div>\n",
              "<script type=\"text/javascript\">\n",
              "  (function(spec, embedOpt){\n",
              "    const outputDiv = document.getElementById(\"altair-viz-de722987a5424bcf9e1038c62d807b5e\");\n",
              "    const paths = {\n",
              "      \"vega\": \"https://cdn.jsdelivr.net/npm//vega@5?noext\",\n",
              "      \"vega-lib\": \"https://cdn.jsdelivr.net/npm//vega-lib?noext\",\n",
              "      \"vega-lite\": \"https://cdn.jsdelivr.net/npm//vega-lite@4.0.2?noext\",\n",
              "      \"vega-embed\": \"https://cdn.jsdelivr.net/npm//vega-embed@6?noext\",\n",
              "    };\n",
              "\n",
              "    function loadScript(lib) {\n",
              "      return new Promise(function(resolve, reject) {\n",
              "        var s = document.createElement('script');\n",
              "        s.src = paths[lib];\n",
              "        s.async = true;\n",
              "        s.onload = () => resolve(paths[lib]);\n",
              "        s.onerror = () => reject(`Error loading script: ${paths[lib]}`);\n",
              "        document.getElementsByTagName(\"head\")[0].appendChild(s);\n",
              "      });\n",
              "    }\n",
              "\n",
              "    function showError(err) {\n",
              "      outputDiv.innerHTML = `<div class=\"error\" style=\"color:red;\">${err}</div>`;\n",
              "      throw err;\n",
              "    }\n",
              "\n",
              "    function displayChart(vegaEmbed) {\n",
              "      vegaEmbed(outputDiv, spec, embedOpt)\n",
              "        .catch(err => showError(`Javascript Error: ${err.message}<br>This usually means there's a typo in your chart specification. See the javascript console for the full traceback.`));\n",
              "    }\n",
              "\n",
              "    if(typeof define === \"function\" && define.amd) {\n",
              "      requirejs.config({paths});\n",
              "      require([\"vega-embed\"], displayChart, err => showError(`Error loading script: ${err.message}`));\n",
              "    } else if (typeof vegaEmbed === \"function\") {\n",
              "      displayChart(vegaEmbed);\n",
              "    } else {\n",
              "      loadScript(\"vega\")\n",
              "        .then(() => loadScript(\"vega-lite\"))\n",
              "        .then(() => loadScript(\"vega-embed\"))\n",
              "        .catch(showError)\n",
              "        .then(() => displayChart(vegaEmbed));\n",
              "    }\n",
              "  })({\"config\": {\"view\": {\"continuousWidth\": 400, \"continuousHeight\": 300, \"fill\": \"#FFF1E4\"}, \"axis\": {\"labelFontSize\": 13, \"titleFontSize\": 15}, \"legend\": {\"labelFontSize\": 13, \"titleFontSize\": 15}, \"title\": {\"anchor\": \"middle\", \"color\": \"gray\", \"font\": \"Helvetica Neue\", \"fontSize\": 20}}, \"layer\": [{\"mark\": {\"type\": \"line\", \"clip\": true, \"point\": true}, \"encoding\": {\"color\": {\"type\": \"nominal\", \"field\": \"Country\", \"legend\": {\"columns\": 4, \"symbolLimit\": 55}, \"scale\": {\"domain\": [\"Albania\", \"Algeria\", \"Argentina\", \"Australia\", \"Austria\", \"Belgium\", \"Bosnia and Herzegovina\", \"Brazil\", \"Burkina Faso\", \"Canada\", \"China\", \"Colombia\", \"Czechia\", \"Denmark\", \"Dominican Republic\", \"Ecuador\", \"Egypt\", \"Finland\", \"France\", \"Germany\", \"Greece\", \"Hungary\", \"India\", \"Indonesia\", \"Iran\", \"Iraq\", \"Ireland\", \"Israel\", \"Italy\", \"Japan\", \"Lebanon\", \"Luxembourg\", \"Malaysia\", \"Mexico\", \"Morocco\", \"Netherlands\", \"Norway\", \"Pakistan\", \"Panama\", \"Peru\", \"Philippines\", \"Poland\", \"Portugal\", \"Romania\", \"San Marino\", \"Serbia\", \"Slovenia\", \"South Korea\", \"Spain\", \"Sweden\", \"Switzerland\", \"Turkey\", \"US\", \"Ukraine\", \"United Kingdom\"], \"range\": [\"#C1B7AD\", \"#C1B7AD\", \"#C1B7AD\", \"#C1B7AD\", \"#C1B7AD\", \"#C1B7AD\", \"#C1B7AD\", \"#C1B7AD\", \"#C1B7AD\", \"#C1B7AD\", \"#F3A514\", \"#C1B7AD\", \"#C1B7AD\", \"#C1B7AD\", \"#C1B7AD\", \"#C1B7AD\", \"#C1B7AD\", \"#C1B7AD\", \"#9B1005\", \"#9D755D\", \"#C1B7AD\", \"#C1B7AD\", \"#C1B7AD\", \"#C1B7AD\", \"#A1BA59\", \"#C1B7AD\", \"#C1B7AD\", \"#C1B7AD\", \"black\", \"#9467bd\", \"#C1B7AD\", \"#C1B7AD\", \"#C1B7AD\", \"#C1B7AD\", \"#C1B7AD\", \"#C1B7AD\", \"#C1B7AD\", \"#C1B7AD\", \"#C1B7AD\", \"#C1B7AD\", \"#C1B7AD\", \"#C1B7AD\", \"#C1B7AD\", \"#C1B7AD\", \"#C1B7AD\", \"#C1B7AD\", \"#C1B7AD\", \"#E45756\", \"#F58518\", \"#C1B7AD\", \"#9D755D\", \"#C1B7AD\", \"#2495D3\", \"#C1B7AD\", \"#2495D3\"]}}, \"opacity\": {\"condition\": {\"value\": 1, \"selection\": \"selector001\"}, \"value\": 0.05}, \"tooltip\": [{\"type\": \"nominal\", \"field\": \"Country\"}, {\"type\": \"temporal\", \"field\": \"Date\"}, {\"type\": \"quantitative\", \"field\": \"Confirmed Deaths\"}, {\"type\": \"quantitative\", \"field\": \"Days since 10th fatality\"}], \"x\": {\"type\": \"quantitative\", \"field\": \"Days since 10th fatality\", \"scale\": {\"domain\": [0, 40]}}, \"y\": {\"type\": \"quantitative\", \"axis\": {\"title\": \"Cumulative Fatalities\"}, \"field\": \"Confirmed Deaths\", \"scale\": {\"domain\": [10, 30000], \"type\": \"log\"}}}, \"height\": 500, \"selection\": {\"selector001\": {\"type\": \"multi\", \"fields\": [\"Country\"], \"bind\": \"legend\", \"init\": [{\"Country\": \"France\"}, {\"Country\": \"Spain\"}, {\"Country\": \"United Kingdom\"}, {\"Country\": \"Italy\"}, {\"Country\": \"US\"}, {\"Country\": \"United Kingdom\"}, {\"Country\": \"South Korea\"}, {\"Country\": \"Japan\"}, {\"Country\": \"China\"}]}}, \"width\": 800}, {\"mark\": {\"type\": \"text\", \"align\": \"right\", \"dy\": -8}, \"encoding\": {\"color\": {\"type\": \"nominal\", \"field\": \"Country\", \"legend\": {\"columns\": 4, \"symbolLimit\": 55}, \"scale\": {\"domain\": [\"Albania\", \"Algeria\", \"Argentina\", \"Australia\", \"Austria\", \"Belgium\", \"Bosnia and Herzegovina\", \"Brazil\", \"Burkina Faso\", \"Canada\", \"China\", \"Colombia\", \"Czechia\", \"Denmark\", \"Dominican Republic\", \"Ecuador\", \"Egypt\", \"Finland\", \"France\", \"Germany\", \"Greece\", \"Hungary\", \"India\", \"Indonesia\", \"Iran\", \"Iraq\", \"Ireland\", \"Israel\", \"Italy\", \"Japan\", \"Lebanon\", \"Luxembourg\", \"Malaysia\", \"Mexico\", \"Morocco\", \"Netherlands\", \"Norway\", \"Pakistan\", \"Panama\", \"Peru\", \"Philippines\", \"Poland\", \"Portugal\", \"Romania\", \"San Marino\", \"Serbia\", \"Slovenia\", \"South Korea\", \"Spain\", \"Sweden\", \"Switzerland\", \"Turkey\", \"US\", \"Ukraine\", \"United Kingdom\"], \"range\": [\"#C1B7AD\", \"#C1B7AD\", \"#C1B7AD\", \"#C1B7AD\", \"#C1B7AD\", \"#C1B7AD\", \"#C1B7AD\", \"#C1B7AD\", \"#C1B7AD\", \"#C1B7AD\", \"#F3A514\", \"#C1B7AD\", \"#C1B7AD\", \"#C1B7AD\", \"#C1B7AD\", \"#C1B7AD\", \"#C1B7AD\", \"#C1B7AD\", \"#9B1005\", \"#9D755D\", \"#C1B7AD\", \"#C1B7AD\", \"#C1B7AD\", \"#C1B7AD\", \"#A1BA59\", \"#C1B7AD\", \"#C1B7AD\", \"#C1B7AD\", \"black\", \"#9467bd\", \"#C1B7AD\", \"#C1B7AD\", \"#C1B7AD\", \"#C1B7AD\", \"#C1B7AD\", \"#C1B7AD\", \"#C1B7AD\", \"#C1B7AD\", \"#C1B7AD\", \"#C1B7AD\", \"#C1B7AD\", \"#C1B7AD\", \"#C1B7AD\", \"#C1B7AD\", \"#C1B7AD\", \"#C1B7AD\", \"#C1B7AD\", \"#E45756\", \"#F58518\", \"#C1B7AD\", \"#9D755D\", \"#C1B7AD\", \"#2495D3\", \"#C1B7AD\", \"#2495D3\"]}}, \"opacity\": {\"condition\": {\"value\": 1, \"selection\": \"selector001\"}, \"value\": 0.05}, \"text\": {\"type\": \"nominal\", \"field\": \"Country\"}, \"tooltip\": [{\"type\": \"nominal\", \"field\": \"Country\"}, {\"type\": \"temporal\", \"field\": \"Date\"}, {\"type\": \"quantitative\", \"field\": \"Confirmed Deaths\"}, {\"type\": \"quantitative\", \"field\": \"Days since 10th fatality\"}], \"x\": {\"type\": \"quantitative\", \"field\": \"Days since 10th fatality\", \"scale\": {\"domain\": [0, 40]}}, \"y\": {\"type\": \"quantitative\", \"axis\": {\"title\": \"Cumulative Fatalities\"}, \"field\": \"Confirmed Deaths\", \"scale\": {\"domain\": [10, 30000], \"type\": \"log\"}}}, \"height\": 500, \"transform\": [{\"filter\": \"(('China' && datum['Date']) >= 1585526400000)\"}], \"width\": 800}, {\"mark\": {\"type\": \"text\", \"align\": \"center\", \"dy\": -8}, \"encoding\": {\"color\": {\"type\": \"nominal\", \"field\": \"Country\", \"legend\": {\"columns\": 4, \"symbolLimit\": 55}, \"scale\": {\"domain\": [\"Albania\", \"Algeria\", \"Argentina\", \"Australia\", \"Austria\", \"Belgium\", \"Bosnia and Herzegovina\", \"Brazil\", \"Burkina Faso\", \"Canada\", \"China\", \"Colombia\", \"Czechia\", \"Denmark\", \"Dominican Republic\", \"Ecuador\", \"Egypt\", \"Finland\", \"France\", \"Germany\", \"Greece\", \"Hungary\", \"India\", \"Indonesia\", \"Iran\", \"Iraq\", \"Ireland\", \"Israel\", \"Italy\", \"Japan\", \"Lebanon\", \"Luxembourg\", \"Malaysia\", \"Mexico\", \"Morocco\", \"Netherlands\", \"Norway\", \"Pakistan\", \"Panama\", \"Peru\", \"Philippines\", \"Poland\", \"Portugal\", \"Romania\", \"San Marino\", \"Serbia\", \"Slovenia\", \"South Korea\", \"Spain\", \"Sweden\", \"Switzerland\", \"Turkey\", \"US\", \"Ukraine\", \"United Kingdom\"], \"range\": [\"#C1B7AD\", \"#C1B7AD\", \"#C1B7AD\", \"#C1B7AD\", \"#C1B7AD\", \"#C1B7AD\", \"#C1B7AD\", \"#C1B7AD\", \"#C1B7AD\", \"#C1B7AD\", \"#F3A514\", \"#C1B7AD\", \"#C1B7AD\", \"#C1B7AD\", \"#C1B7AD\", \"#C1B7AD\", \"#C1B7AD\", \"#C1B7AD\", \"#9B1005\", \"#9D755D\", \"#C1B7AD\", \"#C1B7AD\", \"#C1B7AD\", \"#C1B7AD\", \"#A1BA59\", \"#C1B7AD\", \"#C1B7AD\", \"#C1B7AD\", \"black\", \"#9467bd\", \"#C1B7AD\", \"#C1B7AD\", \"#C1B7AD\", \"#C1B7AD\", \"#C1B7AD\", \"#C1B7AD\", \"#C1B7AD\", \"#C1B7AD\", \"#C1B7AD\", \"#C1B7AD\", \"#C1B7AD\", \"#C1B7AD\", \"#C1B7AD\", \"#C1B7AD\", \"#C1B7AD\", \"#C1B7AD\", \"#C1B7AD\", \"#E45756\", \"#F58518\", \"#C1B7AD\", \"#9D755D\", \"#C1B7AD\", \"#2495D3\", \"#C1B7AD\", \"#2495D3\"]}}, \"opacity\": {\"condition\": {\"value\": 1, \"selection\": \"selector001\"}, \"value\": 0.05}, \"text\": {\"type\": \"nominal\", \"field\": \"Country\"}, \"tooltip\": [{\"type\": \"nominal\", \"field\": \"Country\"}, {\"type\": \"temporal\", \"field\": \"Date\"}, {\"type\": \"quantitative\", \"field\": \"Confirmed Deaths\"}, {\"type\": \"quantitative\", \"field\": \"Days since 10th fatality\"}], \"x\": {\"type\": \"quantitative\", \"field\": \"Days since 10th fatality\", \"scale\": {\"domain\": [0, 40]}}, \"y\": {\"type\": \"quantitative\", \"axis\": {\"title\": \"Cumulative Fatalities\"}, \"field\": \"Confirmed Deaths\", \"scale\": {\"domain\": [10, 30000], \"type\": \"log\"}}}, \"height\": 500, \"transform\": [{\"filter\": \"((38 && datum['Confirmed Deaths']) === 2837)\"}], \"width\": 800}, {\"data\": {\"name\": \"data-f17fac8a3fb41b194f961a3c6db5aad4\"}, \"mark\": {\"type\": \"line\", \"clip\": true, \"strokeDash\": [2, 2]}, \"encoding\": {\"color\": {\"type\": \"nominal\", \"field\": \"key\", \"legend\": null, \"scale\": {\"domain\": [\"a1\", \"a2\", \"a3\", \"a7\"], \"range\": [\"#9494B8\", \"#B3B3CC\", \"#D1D1E0\", \"#E0E0EB\"]}}, \"opacity\": {\"condition\": {\"value\": 0.5, \"test\": {\"equal\": 1, \"field\": \"y1\"}}, \"value\": 0.5}, \"x\": {\"type\": \"quantitative\", \"field\": \"Days since 10th fatality\", \"scale\": {\"domain\": [0, 40]}}, \"y\": {\"type\": \"quantitative\", \"field\": \"value\", \"scale\": {\"domain\": [10, 30000], \"type\": \"log\"}}}, \"transform\": [{\"fold\": [\"a1\", \"a2\", \"a3\", \"a7\"]}]}, {\"data\": {\"name\": \"data-5a9678149300e0cfb02877354aa5cecd\"}, \"mark\": {\"type\": \"text\", \"align\": \"center\", \"angle\": 299, \"color\": \"gray\", \"dy\": 5, \"opacity\": 0.5, \"text\": \"DEATHS DOUBLE EVERY DAY\"}, \"encoding\": {\"x\": {\"type\": \"quantitative\", \"field\": \"Days since 10th fatality\"}, \"y\": {\"type\": \"quantitative\", \"field\": \"value\"}}}, {\"data\": {\"name\": \"data-5e3fedd4dc5f36dcbf98e456d9db5b30\"}, \"mark\": {\"type\": \"text\", \"align\": \"left\", \"angle\": 318, \"color\": \"gray\", \"dy\": 5, \"opacity\": 0.5, \"text\": \"...EVERY 2 DAYS\"}, \"encoding\": {\"x\": {\"type\": \"quantitative\", \"field\": \"Days since 10th fatality\"}, \"y\": {\"type\": \"quantitative\", \"field\": \"value\"}}}, {\"data\": {\"name\": \"data-8ac32b96edad120556a5cdc8e277af90\"}, \"mark\": {\"type\": \"text\", \"align\": \"center\", \"angle\": 326, \"color\": \"gray\", \"dy\": -2, \"opacity\": 0.5, \"text\": \"...EVERY 3 DAYS\"}, \"encoding\": {\"x\": {\"type\": \"quantitative\", \"field\": \"Days since 10th fatality\"}, \"y\": {\"type\": \"quantitative\", \"field\": \"value\"}}}, {\"data\": {\"name\": \"data-5800a48de2a1967c8ff97a5136e68213\"}, \"mark\": {\"type\": \"text\", \"align\": \"left\", \"angle\": 342, \"color\": \"gray\", \"dy\": -2, \"opacity\": 0.5, \"text\": \"...EVERY WEEK\"}, \"encoding\": {\"x\": {\"type\": \"quantitative\", \"field\": \"Days since 10th fatality\"}, \"y\": {\"type\": \"quantitative\", \"field\": \"value\"}}}], \"data\": {\"name\": \"data-0e35b6c0612e99264a618b2c39df1005\"}, \"title\": \"Coronoavirus Deaths in Countries\", \"$schema\": \"https://vega.github.io/schema/vega-lite/v4.0.2.json\", \"datasets\": {\"data-0e35b6c0612e99264a618b2c39df1005\": [{\"Country\": \"Albania\", \"Date\": \"2020-03-28T00:00:00\", \"Confirmed Deaths\": 10, \"Days since 10th fatality\": 0}, {\"Country\": \"Albania\", \"Date\": \"2020-03-29T00:00:00\", \"Confirmed Deaths\": 10, \"Days since 10th fatality\": 1}, {\"Country\": \"Albania\", \"Date\": \"2020-03-30T00:00:00\", \"Confirmed Deaths\": 11, \"Days since 10th fatality\": 2}, {\"Country\": \"Algeria\", \"Date\": \"2020-03-20T00:00:00\", \"Confirmed Deaths\": 11, \"Days since 10th fatality\": 0}, {\"Country\": \"Algeria\", \"Date\": \"2020-03-21T00:00:00\", \"Confirmed Deaths\": 15, \"Days since 10th fatality\": 1}, {\"Country\": \"Algeria\", \"Date\": \"2020-03-22T00:00:00\", \"Confirmed Deaths\": 17, \"Days since 10th fatality\": 2}, {\"Country\": \"Algeria\", \"Date\": \"2020-03-23T00:00:00\", \"Confirmed Deaths\": 17, \"Days since 10th fatality\": 3}, {\"Country\": \"Algeria\", \"Date\": \"2020-03-24T00:00:00\", \"Confirmed Deaths\": 19, \"Days since 10th fatality\": 4}, {\"Country\": \"Algeria\", \"Date\": \"2020-03-25T00:00:00\", \"Confirmed Deaths\": 21, \"Days since 10th fatality\": 5}, {\"Country\": \"Algeria\", \"Date\": \"2020-03-26T00:00:00\", \"Confirmed Deaths\": 25, \"Days since 10th fatality\": 6}, {\"Country\": \"Algeria\", \"Date\": \"2020-03-27T00:00:00\", \"Confirmed Deaths\": 26, \"Days since 10th fatality\": 7}, {\"Country\": \"Algeria\", \"Date\": \"2020-03-28T00:00:00\", \"Confirmed Deaths\": 29, \"Days since 10th fatality\": 8}, {\"Country\": \"Algeria\", \"Date\": \"2020-03-29T00:00:00\", \"Confirmed Deaths\": 31, \"Days since 10th fatality\": 9}, {\"Country\": \"Algeria\", \"Date\": \"2020-03-30T00:00:00\", \"Confirmed Deaths\": 35, \"Days since 10th fatality\": 10}, {\"Country\": \"Argentina\", \"Date\": \"2020-03-27T00:00:00\", \"Confirmed Deaths\": 13, \"Days since 10th fatality\": 0}, {\"Country\": \"Argentina\", \"Date\": \"2020-03-28T00:00:00\", \"Confirmed Deaths\": 18, \"Days since 10th fatality\": 1}, {\"Country\": \"Argentina\", \"Date\": \"2020-03-29T00:00:00\", \"Confirmed Deaths\": 19, \"Days since 10th fatality\": 2}, {\"Country\": \"Argentina\", \"Date\": \"2020-03-30T00:00:00\", \"Confirmed Deaths\": 23, \"Days since 10th fatality\": 3}, {\"Country\": \"Australia\", \"Date\": \"2020-03-26T00:00:00\", \"Confirmed Deaths\": 13, \"Days since 10th fatality\": 0}, {\"Country\": \"Australia\", \"Date\": \"2020-03-27T00:00:00\", \"Confirmed Deaths\": 13, \"Days since 10th fatality\": 1}, {\"Country\": \"Australia\", \"Date\": \"2020-03-28T00:00:00\", \"Confirmed Deaths\": 14, \"Days since 10th fatality\": 2}, {\"Country\": \"Australia\", \"Date\": \"2020-03-29T00:00:00\", \"Confirmed Deaths\": 16, \"Days since 10th fatality\": 3}, {\"Country\": \"Australia\", \"Date\": \"2020-03-30T00:00:00\", \"Confirmed Deaths\": 17, \"Days since 10th fatality\": 4}, {\"Country\": \"Austria\", \"Date\": \"2020-03-22T00:00:00\", \"Confirmed Deaths\": 16, \"Days since 10th fatality\": 0}, {\"Country\": \"Austria\", \"Date\": \"2020-03-23T00:00:00\", \"Confirmed Deaths\": 21, \"Days since 10th fatality\": 1}, {\"Country\": \"Austria\", \"Date\": \"2020-03-24T00:00:00\", \"Confirmed Deaths\": 28, \"Days since 10th fatality\": 2}, {\"Country\": \"Austria\", \"Date\": \"2020-03-25T00:00:00\", \"Confirmed Deaths\": 30, \"Days since 10th fatality\": 3}, {\"Country\": \"Austria\", \"Date\": \"2020-03-26T00:00:00\", \"Confirmed Deaths\": 49, \"Days since 10th fatality\": 4}, {\"Country\": \"Austria\", \"Date\": \"2020-03-27T00:00:00\", \"Confirmed Deaths\": 58, \"Days since 10th fatality\": 5}, {\"Country\": \"Austria\", \"Date\": \"2020-03-28T00:00:00\", \"Confirmed Deaths\": 68, \"Days since 10th fatality\": 6}, {\"Country\": \"Austria\", \"Date\": \"2020-03-29T00:00:00\", \"Confirmed Deaths\": 86, \"Days since 10th fatality\": 7}, {\"Country\": \"Austria\", \"Date\": \"2020-03-30T00:00:00\", \"Confirmed Deaths\": 108, \"Days since 10th fatality\": 8}, {\"Country\": \"Belgium\", \"Date\": \"2020-03-17T00:00:00\", \"Confirmed Deaths\": 10, \"Days since 10th fatality\": 0}, {\"Country\": \"Belgium\", \"Date\": \"2020-03-18T00:00:00\", \"Confirmed Deaths\": 14, \"Days since 10th fatality\": 1}, {\"Country\": \"Belgium\", \"Date\": \"2020-03-19T00:00:00\", \"Confirmed Deaths\": 21, \"Days since 10th fatality\": 2}, {\"Country\": \"Belgium\", \"Date\": \"2020-03-20T00:00:00\", \"Confirmed Deaths\": 37, \"Days since 10th fatality\": 3}, {\"Country\": \"Belgium\", \"Date\": \"2020-03-21T00:00:00\", \"Confirmed Deaths\": 67, \"Days since 10th fatality\": 4}, {\"Country\": \"Belgium\", \"Date\": \"2020-03-22T00:00:00\", \"Confirmed Deaths\": 75, \"Days since 10th fatality\": 5}, {\"Country\": \"Belgium\", \"Date\": \"2020-03-23T00:00:00\", \"Confirmed Deaths\": 88, \"Days since 10th fatality\": 6}, {\"Country\": \"Belgium\", \"Date\": \"2020-03-24T00:00:00\", \"Confirmed Deaths\": 122, \"Days since 10th fatality\": 7}, {\"Country\": \"Belgium\", \"Date\": \"2020-03-25T00:00:00\", \"Confirmed Deaths\": 178, \"Days since 10th fatality\": 8}, {\"Country\": \"Belgium\", \"Date\": \"2020-03-26T00:00:00\", \"Confirmed Deaths\": 220, \"Days since 10th fatality\": 9}, {\"Country\": \"Belgium\", \"Date\": \"2020-03-27T00:00:00\", \"Confirmed Deaths\": 289, \"Days since 10th fatality\": 10}, {\"Country\": \"Belgium\", \"Date\": \"2020-03-28T00:00:00\", \"Confirmed Deaths\": 353, \"Days since 10th fatality\": 11}, {\"Country\": \"Belgium\", \"Date\": \"2020-03-29T00:00:00\", \"Confirmed Deaths\": 431, \"Days since 10th fatality\": 12}, {\"Country\": \"Belgium\", \"Date\": \"2020-03-30T00:00:00\", \"Confirmed Deaths\": 513, \"Days since 10th fatality\": 13}, {\"Country\": \"Bosnia and Herzegovina\", \"Date\": \"2020-03-30T00:00:00\", \"Confirmed Deaths\": 10, \"Days since 10th fatality\": 0}, {\"Country\": \"Brazil\", \"Date\": \"2020-03-20T00:00:00\", \"Confirmed Deaths\": 11, \"Days since 10th fatality\": 0}, {\"Country\": \"Brazil\", \"Date\": \"2020-03-21T00:00:00\", \"Confirmed Deaths\": 15, \"Days since 10th fatality\": 1}, {\"Country\": \"Brazil\", \"Date\": \"2020-03-22T00:00:00\", \"Confirmed Deaths\": 25, \"Days since 10th fatality\": 2}, {\"Country\": \"Brazil\", \"Date\": \"2020-03-23T00:00:00\", \"Confirmed Deaths\": 34, \"Days since 10th fatality\": 3}, {\"Country\": \"Brazil\", \"Date\": \"2020-03-24T00:00:00\", \"Confirmed Deaths\": 46, \"Days since 10th fatality\": 4}, {\"Country\": \"Brazil\", \"Date\": \"2020-03-25T00:00:00\", \"Confirmed Deaths\": 59, \"Days since 10th fatality\": 5}, {\"Country\": \"Brazil\", \"Date\": \"2020-03-26T00:00:00\", \"Confirmed Deaths\": 77, \"Days since 10th fatality\": 6}, {\"Country\": \"Brazil\", \"Date\": \"2020-03-27T00:00:00\", \"Confirmed Deaths\": 92, \"Days since 10th fatality\": 7}, {\"Country\": \"Brazil\", \"Date\": \"2020-03-28T00:00:00\", \"Confirmed Deaths\": 111, \"Days since 10th fatality\": 8}, {\"Country\": \"Brazil\", \"Date\": \"2020-03-29T00:00:00\", \"Confirmed Deaths\": 136, \"Days since 10th fatality\": 9}, {\"Country\": \"Brazil\", \"Date\": \"2020-03-30T00:00:00\", \"Confirmed Deaths\": 159, \"Days since 10th fatality\": 10}, {\"Country\": \"Burkina Faso\", \"Date\": \"2020-03-28T00:00:00\", \"Confirmed Deaths\": 11, \"Days since 10th fatality\": 0}, {\"Country\": \"Burkina Faso\", \"Date\": \"2020-03-29T00:00:00\", \"Confirmed Deaths\": 12, \"Days since 10th fatality\": 1}, {\"Country\": \"Burkina Faso\", \"Date\": \"2020-03-30T00:00:00\", \"Confirmed Deaths\": 12, \"Days since 10th fatality\": 2}, {\"Country\": \"Canada\", \"Date\": \"2020-03-20T00:00:00\", \"Confirmed Deaths\": 12, \"Days since 10th fatality\": 0}, {\"Country\": \"Canada\", \"Date\": \"2020-03-21T00:00:00\", \"Confirmed Deaths\": 19, \"Days since 10th fatality\": 1}, {\"Country\": \"Canada\", \"Date\": \"2020-03-22T00:00:00\", \"Confirmed Deaths\": 21, \"Days since 10th fatality\": 2}, {\"Country\": \"Canada\", \"Date\": \"2020-03-23T00:00:00\", \"Confirmed Deaths\": 25, \"Days since 10th fatality\": 3}, {\"Country\": \"Canada\", \"Date\": \"2020-03-24T00:00:00\", \"Confirmed Deaths\": 26, \"Days since 10th fatality\": 4}, {\"Country\": \"Canada\", \"Date\": \"2020-03-25T00:00:00\", \"Confirmed Deaths\": 30, \"Days since 10th fatality\": 5}, {\"Country\": \"Canada\", \"Date\": \"2020-03-26T00:00:00\", \"Confirmed Deaths\": 38, \"Days since 10th fatality\": 6}, {\"Country\": \"Canada\", \"Date\": \"2020-03-27T00:00:00\", \"Confirmed Deaths\": 54, \"Days since 10th fatality\": 7}, {\"Country\": \"Canada\", \"Date\": \"2020-03-28T00:00:00\", \"Confirmed Deaths\": 61, \"Days since 10th fatality\": 8}, {\"Country\": \"Canada\", \"Date\": \"2020-03-29T00:00:00\", \"Confirmed Deaths\": 64, \"Days since 10th fatality\": 9}, {\"Country\": \"Canada\", \"Date\": \"2020-03-30T00:00:00\", \"Confirmed Deaths\": 80, \"Days since 10th fatality\": 10}, {\"Country\": \"China\", \"Date\": \"2020-01-22T00:00:00\", \"Confirmed Deaths\": 17, \"Days since 10th fatality\": 0}, {\"Country\": \"China\", \"Date\": \"2020-01-23T00:00:00\", \"Confirmed Deaths\": 18, \"Days since 10th fatality\": 1}, {\"Country\": \"China\", \"Date\": \"2020-01-24T00:00:00\", \"Confirmed Deaths\": 26, \"Days since 10th fatality\": 2}, {\"Country\": \"China\", \"Date\": \"2020-01-25T00:00:00\", \"Confirmed Deaths\": 42, \"Days since 10th fatality\": 3}, {\"Country\": \"China\", \"Date\": \"2020-01-26T00:00:00\", \"Confirmed Deaths\": 56, \"Days since 10th fatality\": 4}, {\"Country\": \"China\", \"Date\": \"2020-01-27T00:00:00\", \"Confirmed Deaths\": 82, \"Days since 10th fatality\": 5}, {\"Country\": \"China\", \"Date\": \"2020-01-28T00:00:00\", \"Confirmed Deaths\": 131, \"Days since 10th fatality\": 6}, {\"Country\": \"China\", \"Date\": \"2020-01-29T00:00:00\", \"Confirmed Deaths\": 133, \"Days since 10th fatality\": 7}, {\"Country\": \"China\", \"Date\": \"2020-01-30T00:00:00\", \"Confirmed Deaths\": 171, \"Days since 10th fatality\": 8}, {\"Country\": \"China\", \"Date\": \"2020-01-31T00:00:00\", \"Confirmed Deaths\": 213, \"Days since 10th fatality\": 9}, {\"Country\": \"China\", \"Date\": \"2020-02-01T00:00:00\", \"Confirmed Deaths\": 259, \"Days since 10th fatality\": 10}, {\"Country\": \"China\", \"Date\": \"2020-02-02T00:00:00\", \"Confirmed Deaths\": 361, \"Days since 10th fatality\": 11}, {\"Country\": \"China\", \"Date\": \"2020-02-03T00:00:00\", \"Confirmed Deaths\": 425, \"Days since 10th fatality\": 12}, {\"Country\": \"China\", \"Date\": \"2020-02-04T00:00:00\", \"Confirmed Deaths\": 491, \"Days since 10th fatality\": 13}, {\"Country\": \"China\", \"Date\": \"2020-02-05T00:00:00\", \"Confirmed Deaths\": 563, \"Days since 10th fatality\": 14}, {\"Country\": \"China\", \"Date\": \"2020-02-06T00:00:00\", \"Confirmed Deaths\": 633, \"Days since 10th fatality\": 15}, {\"Country\": \"China\", \"Date\": \"2020-02-07T00:00:00\", \"Confirmed Deaths\": 718, \"Days since 10th fatality\": 16}, {\"Country\": \"China\", \"Date\": \"2020-02-08T00:00:00\", \"Confirmed Deaths\": 805, \"Days since 10th fatality\": 17}, {\"Country\": \"China\", \"Date\": \"2020-02-09T00:00:00\", \"Confirmed Deaths\": 905, \"Days since 10th fatality\": 18}, {\"Country\": \"China\", \"Date\": \"2020-02-10T00:00:00\", \"Confirmed Deaths\": 1012, \"Days since 10th fatality\": 19}, {\"Country\": \"China\", \"Date\": \"2020-02-11T00:00:00\", \"Confirmed Deaths\": 1112, \"Days since 10th fatality\": 20}, {\"Country\": \"China\", \"Date\": \"2020-02-12T00:00:00\", \"Confirmed Deaths\": 1117, \"Days since 10th fatality\": 21}, {\"Country\": \"China\", \"Date\": \"2020-02-13T00:00:00\", \"Confirmed Deaths\": 1369, \"Days since 10th fatality\": 22}, {\"Country\": \"China\", \"Date\": \"2020-02-14T00:00:00\", \"Confirmed Deaths\": 1521, \"Days since 10th fatality\": 23}, {\"Country\": \"China\", \"Date\": \"2020-02-15T00:00:00\", \"Confirmed Deaths\": 1663, \"Days since 10th fatality\": 24}, {\"Country\": \"China\", \"Date\": \"2020-02-16T00:00:00\", \"Confirmed Deaths\": 1766, \"Days since 10th fatality\": 25}, {\"Country\": \"China\", \"Date\": \"2020-02-17T00:00:00\", \"Confirmed Deaths\": 1864, \"Days since 10th fatality\": 26}, {\"Country\": \"China\", \"Date\": \"2020-02-18T00:00:00\", \"Confirmed Deaths\": 2003, \"Days since 10th fatality\": 27}, {\"Country\": \"China\", \"Date\": \"2020-02-19T00:00:00\", \"Confirmed Deaths\": 2116, \"Days since 10th fatality\": 28}, {\"Country\": \"China\", \"Date\": \"2020-02-20T00:00:00\", \"Confirmed Deaths\": 2238, \"Days since 10th fatality\": 29}, {\"Country\": \"China\", \"Date\": \"2020-02-21T00:00:00\", \"Confirmed Deaths\": 2238, \"Days since 10th fatality\": 30}, {\"Country\": \"China\", \"Date\": \"2020-02-22T00:00:00\", \"Confirmed Deaths\": 2443, \"Days since 10th fatality\": 31}, {\"Country\": \"China\", \"Date\": \"2020-02-23T00:00:00\", \"Confirmed Deaths\": 2445, \"Days since 10th fatality\": 32}, {\"Country\": \"China\", \"Date\": \"2020-02-24T00:00:00\", \"Confirmed Deaths\": 2595, \"Days since 10th fatality\": 33}, {\"Country\": \"China\", \"Date\": \"2020-02-25T00:00:00\", \"Confirmed Deaths\": 2665, \"Days since 10th fatality\": 34}, {\"Country\": \"China\", \"Date\": \"2020-02-26T00:00:00\", \"Confirmed Deaths\": 2717, \"Days since 10th fatality\": 35}, {\"Country\": \"China\", \"Date\": \"2020-02-27T00:00:00\", \"Confirmed Deaths\": 2746, \"Days since 10th fatality\": 36}, {\"Country\": \"China\", \"Date\": \"2020-02-28T00:00:00\", \"Confirmed Deaths\": 2790, \"Days since 10th fatality\": 37}, {\"Country\": \"China\", \"Date\": \"2020-02-29T00:00:00\", \"Confirmed Deaths\": 2837, \"Days since 10th fatality\": 38}, {\"Country\": \"China\", \"Date\": \"2020-03-01T00:00:00\", \"Confirmed Deaths\": 2872, \"Days since 10th fatality\": 39}, {\"Country\": \"China\", \"Date\": \"2020-03-02T00:00:00\", \"Confirmed Deaths\": 2914, \"Days since 10th fatality\": 40}, {\"Country\": \"China\", \"Date\": \"2020-03-03T00:00:00\", \"Confirmed Deaths\": 2947, \"Days since 10th fatality\": 41}, {\"Country\": \"China\", \"Date\": \"2020-03-04T00:00:00\", \"Confirmed Deaths\": 2983, \"Days since 10th fatality\": 42}, {\"Country\": \"China\", \"Date\": \"2020-03-05T00:00:00\", \"Confirmed Deaths\": 3015, \"Days since 10th fatality\": 43}, {\"Country\": \"China\", \"Date\": \"2020-03-06T00:00:00\", \"Confirmed Deaths\": 3044, \"Days since 10th fatality\": 44}, {\"Country\": \"China\", \"Date\": \"2020-03-07T00:00:00\", \"Confirmed Deaths\": 3072, \"Days since 10th fatality\": 45}, {\"Country\": \"China\", \"Date\": \"2020-03-08T00:00:00\", \"Confirmed Deaths\": 3100, \"Days since 10th fatality\": 46}, {\"Country\": \"China\", \"Date\": \"2020-03-09T00:00:00\", \"Confirmed Deaths\": 3123, \"Days since 10th fatality\": 47}, {\"Country\": \"China\", \"Date\": \"2020-03-10T00:00:00\", \"Confirmed Deaths\": 3139, \"Days since 10th fatality\": 48}, {\"Country\": \"China\", \"Date\": \"2020-03-11T00:00:00\", \"Confirmed Deaths\": 3161, \"Days since 10th fatality\": 49}, {\"Country\": \"China\", \"Date\": \"2020-03-12T00:00:00\", \"Confirmed Deaths\": 3172, \"Days since 10th fatality\": 50}, {\"Country\": \"China\", \"Date\": \"2020-03-13T00:00:00\", \"Confirmed Deaths\": 3180, \"Days since 10th fatality\": 51}, {\"Country\": \"China\", \"Date\": \"2020-03-14T00:00:00\", \"Confirmed Deaths\": 3193, \"Days since 10th fatality\": 52}, {\"Country\": \"China\", \"Date\": \"2020-03-15T00:00:00\", \"Confirmed Deaths\": 3203, \"Days since 10th fatality\": 53}, {\"Country\": \"China\", \"Date\": \"2020-03-16T00:00:00\", \"Confirmed Deaths\": 3217, \"Days since 10th fatality\": 54}, {\"Country\": \"China\", \"Date\": \"2020-03-17T00:00:00\", \"Confirmed Deaths\": 3230, \"Days since 10th fatality\": 55}, {\"Country\": \"China\", \"Date\": \"2020-03-18T00:00:00\", \"Confirmed Deaths\": 3241, \"Days since 10th fatality\": 56}, {\"Country\": \"China\", \"Date\": \"2020-03-19T00:00:00\", \"Confirmed Deaths\": 3249, \"Days since 10th fatality\": 57}, {\"Country\": \"China\", \"Date\": \"2020-03-20T00:00:00\", \"Confirmed Deaths\": 3253, \"Days since 10th fatality\": 58}, {\"Country\": \"China\", \"Date\": \"2020-03-21T00:00:00\", \"Confirmed Deaths\": 3259, \"Days since 10th fatality\": 59}, {\"Country\": \"China\", \"Date\": \"2020-03-22T00:00:00\", \"Confirmed Deaths\": 3274, \"Days since 10th fatality\": 60}, {\"Country\": \"China\", \"Date\": \"2020-03-23T00:00:00\", \"Confirmed Deaths\": 3274, \"Days since 10th fatality\": 61}, {\"Country\": \"China\", \"Date\": \"2020-03-24T00:00:00\", \"Confirmed Deaths\": 3281, \"Days since 10th fatality\": 62}, {\"Country\": \"China\", \"Date\": \"2020-03-25T00:00:00\", \"Confirmed Deaths\": 3285, \"Days since 10th fatality\": 63}, {\"Country\": \"China\", \"Date\": \"2020-03-26T00:00:00\", \"Confirmed Deaths\": 3291, \"Days since 10th fatality\": 64}, {\"Country\": \"China\", \"Date\": \"2020-03-27T00:00:00\", \"Confirmed Deaths\": 3296, \"Days since 10th fatality\": 65}, {\"Country\": \"China\", \"Date\": \"2020-03-28T00:00:00\", \"Confirmed Deaths\": 3299, \"Days since 10th fatality\": 66}, {\"Country\": \"China\", \"Date\": \"2020-03-29T00:00:00\", \"Confirmed Deaths\": 3304, \"Days since 10th fatality\": 67}, {\"Country\": \"China\", \"Date\": \"2020-03-30T00:00:00\", \"Confirmed Deaths\": 3308, \"Days since 10th fatality\": 68}, {\"Country\": \"Colombia\", \"Date\": \"2020-03-29T00:00:00\", \"Confirmed Deaths\": 10, \"Days since 10th fatality\": 0}, {\"Country\": \"Colombia\", \"Date\": \"2020-03-30T00:00:00\", \"Confirmed Deaths\": 12, \"Days since 10th fatality\": 1}, {\"Country\": \"Czechia\", \"Date\": \"2020-03-28T00:00:00\", \"Confirmed Deaths\": 11, \"Days since 10th fatality\": 0}, {\"Country\": \"Czechia\", \"Date\": \"2020-03-29T00:00:00\", \"Confirmed Deaths\": 16, \"Days since 10th fatality\": 1}, {\"Country\": \"Czechia\", \"Date\": \"2020-03-30T00:00:00\", \"Confirmed Deaths\": 23, \"Days since 10th fatality\": 2}, {\"Country\": \"Denmark\", \"Date\": \"2020-03-21T00:00:00\", \"Confirmed Deaths\": 13, \"Days since 10th fatality\": 0}, {\"Country\": \"Denmark\", \"Date\": \"2020-03-22T00:00:00\", \"Confirmed Deaths\": 13, \"Days since 10th fatality\": 1}, {\"Country\": \"Denmark\", \"Date\": \"2020-03-23T00:00:00\", \"Confirmed Deaths\": 24, \"Days since 10th fatality\": 2}, {\"Country\": \"Denmark\", \"Date\": \"2020-03-24T00:00:00\", \"Confirmed Deaths\": 32, \"Days since 10th fatality\": 3}, {\"Country\": \"Denmark\", \"Date\": \"2020-03-25T00:00:00\", \"Confirmed Deaths\": 34, \"Days since 10th fatality\": 4}, {\"Country\": \"Denmark\", \"Date\": \"2020-03-26T00:00:00\", \"Confirmed Deaths\": 41, \"Days since 10th fatality\": 5}, {\"Country\": \"Denmark\", \"Date\": \"2020-03-27T00:00:00\", \"Confirmed Deaths\": 52, \"Days since 10th fatality\": 6}, {\"Country\": \"Denmark\", \"Date\": \"2020-03-28T00:00:00\", \"Confirmed Deaths\": 65, \"Days since 10th fatality\": 7}, {\"Country\": \"Denmark\", \"Date\": \"2020-03-29T00:00:00\", \"Confirmed Deaths\": 72, \"Days since 10th fatality\": 8}, {\"Country\": \"Denmark\", \"Date\": \"2020-03-30T00:00:00\", \"Confirmed Deaths\": 77, \"Days since 10th fatality\": 9}, {\"Country\": \"Dominican Republic\", \"Date\": \"2020-03-25T00:00:00\", \"Confirmed Deaths\": 10, \"Days since 10th fatality\": 0}, {\"Country\": \"Dominican Republic\", \"Date\": \"2020-03-26T00:00:00\", \"Confirmed Deaths\": 10, \"Days since 10th fatality\": 1}, {\"Country\": \"Dominican Republic\", \"Date\": \"2020-03-27T00:00:00\", \"Confirmed Deaths\": 20, \"Days since 10th fatality\": 2}, {\"Country\": \"Dominican Republic\", \"Date\": \"2020-03-28T00:00:00\", \"Confirmed Deaths\": 28, \"Days since 10th fatality\": 3}, {\"Country\": \"Dominican Republic\", \"Date\": \"2020-03-29T00:00:00\", \"Confirmed Deaths\": 39, \"Days since 10th fatality\": 4}, {\"Country\": \"Dominican Republic\", \"Date\": \"2020-03-30T00:00:00\", \"Confirmed Deaths\": 42, \"Days since 10th fatality\": 5}, {\"Country\": \"Ecuador\", \"Date\": \"2020-03-22T00:00:00\", \"Confirmed Deaths\": 14, \"Days since 10th fatality\": 0}, {\"Country\": \"Ecuador\", \"Date\": \"2020-03-23T00:00:00\", \"Confirmed Deaths\": 18, \"Days since 10th fatality\": 1}, {\"Country\": \"Ecuador\", \"Date\": \"2020-03-24T00:00:00\", \"Confirmed Deaths\": 27, \"Days since 10th fatality\": 2}, {\"Country\": \"Ecuador\", \"Date\": \"2020-03-25T00:00:00\", \"Confirmed Deaths\": 28, \"Days since 10th fatality\": 3}, {\"Country\": \"Ecuador\", \"Date\": \"2020-03-26T00:00:00\", \"Confirmed Deaths\": 34, \"Days since 10th fatality\": 4}, {\"Country\": \"Ecuador\", \"Date\": \"2020-03-27T00:00:00\", \"Confirmed Deaths\": 36, \"Days since 10th fatality\": 5}, {\"Country\": \"Ecuador\", \"Date\": \"2020-03-28T00:00:00\", \"Confirmed Deaths\": 48, \"Days since 10th fatality\": 6}, {\"Country\": \"Ecuador\", \"Date\": \"2020-03-29T00:00:00\", \"Confirmed Deaths\": 58, \"Days since 10th fatality\": 7}, {\"Country\": \"Ecuador\", \"Date\": \"2020-03-30T00:00:00\", \"Confirmed Deaths\": 60, \"Days since 10th fatality\": 8}, {\"Country\": \"Egypt\", \"Date\": \"2020-03-21T00:00:00\", \"Confirmed Deaths\": 10, \"Days since 10th fatality\": 0}, {\"Country\": \"Egypt\", \"Date\": \"2020-03-22T00:00:00\", \"Confirmed Deaths\": 14, \"Days since 10th fatality\": 1}, {\"Country\": \"Egypt\", \"Date\": \"2020-03-23T00:00:00\", \"Confirmed Deaths\": 19, \"Days since 10th fatality\": 2}, {\"Country\": \"Egypt\", \"Date\": \"2020-03-24T00:00:00\", \"Confirmed Deaths\": 20, \"Days since 10th fatality\": 3}, {\"Country\": \"Egypt\", \"Date\": \"2020-03-25T00:00:00\", \"Confirmed Deaths\": 21, \"Days since 10th fatality\": 4}, {\"Country\": \"Egypt\", \"Date\": \"2020-03-26T00:00:00\", \"Confirmed Deaths\": 24, \"Days since 10th fatality\": 5}, {\"Country\": \"Egypt\", \"Date\": \"2020-03-27T00:00:00\", \"Confirmed Deaths\": 30, \"Days since 10th fatality\": 6}, {\"Country\": \"Egypt\", \"Date\": \"2020-03-28T00:00:00\", \"Confirmed Deaths\": 36, \"Days since 10th fatality\": 7}, {\"Country\": \"Egypt\", \"Date\": \"2020-03-29T00:00:00\", \"Confirmed Deaths\": 40, \"Days since 10th fatality\": 8}, {\"Country\": \"Egypt\", \"Date\": \"2020-03-30T00:00:00\", \"Confirmed Deaths\": 41, \"Days since 10th fatality\": 9}, {\"Country\": \"Finland\", \"Date\": \"2020-03-29T00:00:00\", \"Confirmed Deaths\": 11, \"Days since 10th fatality\": 0}, {\"Country\": \"Finland\", \"Date\": \"2020-03-30T00:00:00\", \"Confirmed Deaths\": 13, \"Days since 10th fatality\": 1}, {\"Country\": \"France\", \"Date\": \"2020-03-07T00:00:00\", \"Confirmed Deaths\": 11, \"Days since 10th fatality\": 0}, {\"Country\": \"France\", \"Date\": \"2020-03-08T00:00:00\", \"Confirmed Deaths\": 19, \"Days since 10th fatality\": 1}, {\"Country\": \"France\", \"Date\": \"2020-03-09T00:00:00\", \"Confirmed Deaths\": 19, \"Days since 10th fatality\": 2}, {\"Country\": \"France\", \"Date\": \"2020-03-10T00:00:00\", \"Confirmed Deaths\": 33, \"Days since 10th fatality\": 3}, {\"Country\": \"France\", \"Date\": \"2020-03-11T00:00:00\", \"Confirmed Deaths\": 48, \"Days since 10th fatality\": 4}, {\"Country\": \"France\", \"Date\": \"2020-03-12T00:00:00\", \"Confirmed Deaths\": 48, \"Days since 10th fatality\": 5}, {\"Country\": \"France\", \"Date\": \"2020-03-13T00:00:00\", \"Confirmed Deaths\": 79, \"Days since 10th fatality\": 6}, {\"Country\": \"France\", \"Date\": \"2020-03-14T00:00:00\", \"Confirmed Deaths\": 91, \"Days since 10th fatality\": 7}, {\"Country\": \"France\", \"Date\": \"2020-03-15T00:00:00\", \"Confirmed Deaths\": 91, \"Days since 10th fatality\": 8}, {\"Country\": \"France\", \"Date\": \"2020-03-16T00:00:00\", \"Confirmed Deaths\": 149, \"Days since 10th fatality\": 9}, {\"Country\": \"France\", \"Date\": \"2020-03-17T00:00:00\", \"Confirmed Deaths\": 149, \"Days since 10th fatality\": 10}, {\"Country\": \"France\", \"Date\": \"2020-03-18T00:00:00\", \"Confirmed Deaths\": 149, \"Days since 10th fatality\": 11}, {\"Country\": \"France\", \"Date\": \"2020-03-19T00:00:00\", \"Confirmed Deaths\": 244, \"Days since 10th fatality\": 12}, {\"Country\": \"France\", \"Date\": \"2020-03-20T00:00:00\", \"Confirmed Deaths\": 451, \"Days since 10th fatality\": 13}, {\"Country\": \"France\", \"Date\": \"2020-03-21T00:00:00\", \"Confirmed Deaths\": 563, \"Days since 10th fatality\": 14}, {\"Country\": \"France\", \"Date\": \"2020-03-22T00:00:00\", \"Confirmed Deaths\": 676, \"Days since 10th fatality\": 15}, {\"Country\": \"France\", \"Date\": \"2020-03-23T00:00:00\", \"Confirmed Deaths\": 862, \"Days since 10th fatality\": 16}, {\"Country\": \"France\", \"Date\": \"2020-03-24T00:00:00\", \"Confirmed Deaths\": 1102, \"Days since 10th fatality\": 17}, {\"Country\": \"France\", \"Date\": \"2020-03-25T00:00:00\", \"Confirmed Deaths\": 1333, \"Days since 10th fatality\": 18}, {\"Country\": \"France\", \"Date\": \"2020-03-26T00:00:00\", \"Confirmed Deaths\": 1698, \"Days since 10th fatality\": 19}, {\"Country\": \"France\", \"Date\": \"2020-03-27T00:00:00\", \"Confirmed Deaths\": 1997, \"Days since 10th fatality\": 20}, {\"Country\": \"France\", \"Date\": \"2020-03-28T00:00:00\", \"Confirmed Deaths\": 2317, \"Days since 10th fatality\": 21}, {\"Country\": \"France\", \"Date\": \"2020-03-29T00:00:00\", \"Confirmed Deaths\": 2611, \"Days since 10th fatality\": 22}, {\"Country\": \"France\", \"Date\": \"2020-03-30T00:00:00\", \"Confirmed Deaths\": 3030, \"Days since 10th fatality\": 23}, {\"Country\": \"Germany\", \"Date\": \"2020-03-15T00:00:00\", \"Confirmed Deaths\": 11, \"Days since 10th fatality\": 0}, {\"Country\": \"Germany\", \"Date\": \"2020-03-16T00:00:00\", \"Confirmed Deaths\": 17, \"Days since 10th fatality\": 1}, {\"Country\": \"Germany\", \"Date\": \"2020-03-17T00:00:00\", \"Confirmed Deaths\": 24, \"Days since 10th fatality\": 2}, {\"Country\": \"Germany\", \"Date\": \"2020-03-18T00:00:00\", \"Confirmed Deaths\": 28, \"Days since 10th fatality\": 3}, {\"Country\": \"Germany\", \"Date\": \"2020-03-19T00:00:00\", \"Confirmed Deaths\": 44, \"Days since 10th fatality\": 4}, {\"Country\": \"Germany\", \"Date\": \"2020-03-20T00:00:00\", \"Confirmed Deaths\": 67, \"Days since 10th fatality\": 5}, {\"Country\": \"Germany\", \"Date\": \"2020-03-21T00:00:00\", \"Confirmed Deaths\": 84, \"Days since 10th fatality\": 6}, {\"Country\": \"Germany\", \"Date\": \"2020-03-22T00:00:00\", \"Confirmed Deaths\": 94, \"Days since 10th fatality\": 7}, {\"Country\": \"Germany\", \"Date\": \"2020-03-23T00:00:00\", \"Confirmed Deaths\": 123, \"Days since 10th fatality\": 8}, {\"Country\": \"Germany\", \"Date\": \"2020-03-24T00:00:00\", \"Confirmed Deaths\": 157, \"Days since 10th fatality\": 9}, {\"Country\": \"Germany\", \"Date\": \"2020-03-25T00:00:00\", \"Confirmed Deaths\": 206, \"Days since 10th fatality\": 10}, {\"Country\": \"Germany\", \"Date\": \"2020-03-26T00:00:00\", \"Confirmed Deaths\": 267, \"Days since 10th fatality\": 11}, {\"Country\": \"Germany\", \"Date\": \"2020-03-27T00:00:00\", \"Confirmed Deaths\": 342, \"Days since 10th fatality\": 12}, {\"Country\": \"Germany\", \"Date\": \"2020-03-28T00:00:00\", \"Confirmed Deaths\": 433, \"Days since 10th fatality\": 13}, {\"Country\": \"Germany\", \"Date\": \"2020-03-29T00:00:00\", \"Confirmed Deaths\": 533, \"Days since 10th fatality\": 14}, {\"Country\": \"Germany\", \"Date\": \"2020-03-30T00:00:00\", \"Confirmed Deaths\": 645, \"Days since 10th fatality\": 15}, {\"Country\": \"Greece\", \"Date\": \"2020-03-21T00:00:00\", \"Confirmed Deaths\": 13, \"Days since 10th fatality\": 0}, {\"Country\": \"Greece\", \"Date\": \"2020-03-22T00:00:00\", \"Confirmed Deaths\": 15, \"Days since 10th fatality\": 1}, {\"Country\": \"Greece\", \"Date\": \"2020-03-23T00:00:00\", \"Confirmed Deaths\": 17, \"Days since 10th fatality\": 2}, {\"Country\": \"Greece\", \"Date\": \"2020-03-24T00:00:00\", \"Confirmed Deaths\": 20, \"Days since 10th fatality\": 3}, {\"Country\": \"Greece\", \"Date\": \"2020-03-25T00:00:00\", \"Confirmed Deaths\": 22, \"Days since 10th fatality\": 4}, {\"Country\": \"Greece\", \"Date\": \"2020-03-26T00:00:00\", \"Confirmed Deaths\": 26, \"Days since 10th fatality\": 5}, {\"Country\": \"Greece\", \"Date\": \"2020-03-27T00:00:00\", \"Confirmed Deaths\": 28, \"Days since 10th fatality\": 6}, {\"Country\": \"Greece\", \"Date\": \"2020-03-28T00:00:00\", \"Confirmed Deaths\": 32, \"Days since 10th fatality\": 7}, {\"Country\": \"Greece\", \"Date\": \"2020-03-29T00:00:00\", \"Confirmed Deaths\": 38, \"Days since 10th fatality\": 8}, {\"Country\": \"Greece\", \"Date\": \"2020-03-30T00:00:00\", \"Confirmed Deaths\": 43, \"Days since 10th fatality\": 9}, {\"Country\": \"Hungary\", \"Date\": \"2020-03-25T00:00:00\", \"Confirmed Deaths\": 10, \"Days since 10th fatality\": 0}, {\"Country\": \"Hungary\", \"Date\": \"2020-03-26T00:00:00\", \"Confirmed Deaths\": 10, \"Days since 10th fatality\": 1}, {\"Country\": \"Hungary\", \"Date\": \"2020-03-27T00:00:00\", \"Confirmed Deaths\": 10, \"Days since 10th fatality\": 2}, {\"Country\": \"Hungary\", \"Date\": \"2020-03-28T00:00:00\", \"Confirmed Deaths\": 11, \"Days since 10th fatality\": 3}, {\"Country\": \"Hungary\", \"Date\": \"2020-03-29T00:00:00\", \"Confirmed Deaths\": 13, \"Days since 10th fatality\": 4}, {\"Country\": \"Hungary\", \"Date\": \"2020-03-30T00:00:00\", \"Confirmed Deaths\": 15, \"Days since 10th fatality\": 5}, {\"Country\": \"India\", \"Date\": \"2020-03-23T00:00:00\", \"Confirmed Deaths\": 10, \"Days since 10th fatality\": 0}, {\"Country\": \"India\", \"Date\": \"2020-03-24T00:00:00\", \"Confirmed Deaths\": 10, \"Days since 10th fatality\": 1}, {\"Country\": \"India\", \"Date\": \"2020-03-25T00:00:00\", \"Confirmed Deaths\": 12, \"Days since 10th fatality\": 2}, {\"Country\": \"India\", \"Date\": \"2020-03-26T00:00:00\", \"Confirmed Deaths\": 20, \"Days since 10th fatality\": 3}, {\"Country\": \"India\", \"Date\": \"2020-03-27T00:00:00\", \"Confirmed Deaths\": 20, \"Days since 10th fatality\": 4}, {\"Country\": \"India\", \"Date\": \"2020-03-28T00:00:00\", \"Confirmed Deaths\": 24, \"Days since 10th fatality\": 5}, {\"Country\": \"India\", \"Date\": \"2020-03-29T00:00:00\", \"Confirmed Deaths\": 27, \"Days since 10th fatality\": 6}, {\"Country\": \"India\", \"Date\": \"2020-03-30T00:00:00\", \"Confirmed Deaths\": 32, \"Days since 10th fatality\": 7}, {\"Country\": \"Indonesia\", \"Date\": \"2020-03-18T00:00:00\", \"Confirmed Deaths\": 19, \"Days since 10th fatality\": 0}, {\"Country\": \"Indonesia\", \"Date\": \"2020-03-19T00:00:00\", \"Confirmed Deaths\": 25, \"Days since 10th fatality\": 1}, {\"Country\": \"Indonesia\", \"Date\": \"2020-03-20T00:00:00\", \"Confirmed Deaths\": 32, \"Days since 10th fatality\": 2}, {\"Country\": \"Indonesia\", \"Date\": \"2020-03-21T00:00:00\", \"Confirmed Deaths\": 38, \"Days since 10th fatality\": 3}, {\"Country\": \"Indonesia\", \"Date\": \"2020-03-22T00:00:00\", \"Confirmed Deaths\": 48, \"Days since 10th fatality\": 4}, {\"Country\": \"Indonesia\", \"Date\": \"2020-03-23T00:00:00\", \"Confirmed Deaths\": 49, \"Days since 10th fatality\": 5}, {\"Country\": \"Indonesia\", \"Date\": \"2020-03-24T00:00:00\", \"Confirmed Deaths\": 55, \"Days since 10th fatality\": 6}, {\"Country\": \"Indonesia\", \"Date\": \"2020-03-25T00:00:00\", \"Confirmed Deaths\": 58, \"Days since 10th fatality\": 7}, {\"Country\": \"Indonesia\", \"Date\": \"2020-03-26T00:00:00\", \"Confirmed Deaths\": 78, \"Days since 10th fatality\": 8}, {\"Country\": \"Indonesia\", \"Date\": \"2020-03-27T00:00:00\", \"Confirmed Deaths\": 87, \"Days since 10th fatality\": 9}, {\"Country\": \"Indonesia\", \"Date\": \"2020-03-28T00:00:00\", \"Confirmed Deaths\": 102, \"Days since 10th fatality\": 10}, {\"Country\": \"Indonesia\", \"Date\": \"2020-03-29T00:00:00\", \"Confirmed Deaths\": 114, \"Days since 10th fatality\": 11}, {\"Country\": \"Indonesia\", \"Date\": \"2020-03-30T00:00:00\", \"Confirmed Deaths\": 122, \"Days since 10th fatality\": 12}, {\"Country\": \"Iran\", \"Date\": \"2020-02-24T00:00:00\", \"Confirmed Deaths\": 12, \"Days since 10th fatality\": 0}, {\"Country\": \"Iran\", \"Date\": \"2020-02-25T00:00:00\", \"Confirmed Deaths\": 16, \"Days since 10th fatality\": 1}, {\"Country\": \"Iran\", \"Date\": \"2020-02-26T00:00:00\", \"Confirmed Deaths\": 19, \"Days since 10th fatality\": 2}, {\"Country\": \"Iran\", \"Date\": \"2020-02-27T00:00:00\", \"Confirmed Deaths\": 26, \"Days since 10th fatality\": 3}, {\"Country\": \"Iran\", \"Date\": \"2020-02-28T00:00:00\", \"Confirmed Deaths\": 34, \"Days since 10th fatality\": 4}, {\"Country\": \"Iran\", \"Date\": \"2020-02-29T00:00:00\", \"Confirmed Deaths\": 43, \"Days since 10th fatality\": 5}, {\"Country\": \"Iran\", \"Date\": \"2020-03-01T00:00:00\", \"Confirmed Deaths\": 54, \"Days since 10th fatality\": 6}, {\"Country\": \"Iran\", \"Date\": \"2020-03-02T00:00:00\", \"Confirmed Deaths\": 66, \"Days since 10th fatality\": 7}, {\"Country\": \"Iran\", \"Date\": \"2020-03-03T00:00:00\", \"Confirmed Deaths\": 77, \"Days since 10th fatality\": 8}, {\"Country\": \"Iran\", \"Date\": \"2020-03-04T00:00:00\", \"Confirmed Deaths\": 92, \"Days since 10th fatality\": 9}, {\"Country\": \"Iran\", \"Date\": \"2020-03-05T00:00:00\", \"Confirmed Deaths\": 107, \"Days since 10th fatality\": 10}, {\"Country\": \"Iran\", \"Date\": \"2020-03-06T00:00:00\", \"Confirmed Deaths\": 124, \"Days since 10th fatality\": 11}, {\"Country\": \"Iran\", \"Date\": \"2020-03-07T00:00:00\", \"Confirmed Deaths\": 145, \"Days since 10th fatality\": 12}, {\"Country\": \"Iran\", \"Date\": \"2020-03-08T00:00:00\", \"Confirmed Deaths\": 194, \"Days since 10th fatality\": 13}, {\"Country\": \"Iran\", \"Date\": \"2020-03-09T00:00:00\", \"Confirmed Deaths\": 237, \"Days since 10th fatality\": 14}, {\"Country\": \"Iran\", \"Date\": \"2020-03-10T00:00:00\", \"Confirmed Deaths\": 291, \"Days since 10th fatality\": 15}, {\"Country\": \"Iran\", \"Date\": \"2020-03-11T00:00:00\", \"Confirmed Deaths\": 354, \"Days since 10th fatality\": 16}, {\"Country\": \"Iran\", \"Date\": \"2020-03-12T00:00:00\", \"Confirmed Deaths\": 429, \"Days since 10th fatality\": 17}, {\"Country\": \"Iran\", \"Date\": \"2020-03-13T00:00:00\", \"Confirmed Deaths\": 514, \"Days since 10th fatality\": 18}, {\"Country\": \"Iran\", \"Date\": \"2020-03-14T00:00:00\", \"Confirmed Deaths\": 611, \"Days since 10th fatality\": 19}, {\"Country\": \"Iran\", \"Date\": \"2020-03-15T00:00:00\", \"Confirmed Deaths\": 724, \"Days since 10th fatality\": 20}, {\"Country\": \"Iran\", \"Date\": \"2020-03-16T00:00:00\", \"Confirmed Deaths\": 853, \"Days since 10th fatality\": 21}, {\"Country\": \"Iran\", \"Date\": \"2020-03-17T00:00:00\", \"Confirmed Deaths\": 988, \"Days since 10th fatality\": 22}, {\"Country\": \"Iran\", \"Date\": \"2020-03-18T00:00:00\", \"Confirmed Deaths\": 1135, \"Days since 10th fatality\": 23}, {\"Country\": \"Iran\", \"Date\": \"2020-03-19T00:00:00\", \"Confirmed Deaths\": 1284, \"Days since 10th fatality\": 24}, {\"Country\": \"Iran\", \"Date\": \"2020-03-20T00:00:00\", \"Confirmed Deaths\": 1433, \"Days since 10th fatality\": 25}, {\"Country\": \"Iran\", \"Date\": \"2020-03-21T00:00:00\", \"Confirmed Deaths\": 1556, \"Days since 10th fatality\": 26}, {\"Country\": \"Iran\", \"Date\": \"2020-03-22T00:00:00\", \"Confirmed Deaths\": 1685, \"Days since 10th fatality\": 27}, {\"Country\": \"Iran\", \"Date\": \"2020-03-23T00:00:00\", \"Confirmed Deaths\": 1812, \"Days since 10th fatality\": 28}, {\"Country\": \"Iran\", \"Date\": \"2020-03-24T00:00:00\", \"Confirmed Deaths\": 1934, \"Days since 10th fatality\": 29}, {\"Country\": \"Iran\", \"Date\": \"2020-03-25T00:00:00\", \"Confirmed Deaths\": 2077, \"Days since 10th fatality\": 30}, {\"Country\": \"Iran\", \"Date\": \"2020-03-26T00:00:00\", \"Confirmed Deaths\": 2234, \"Days since 10th fatality\": 31}, {\"Country\": \"Iran\", \"Date\": \"2020-03-27T00:00:00\", \"Confirmed Deaths\": 2378, \"Days since 10th fatality\": 32}, {\"Country\": \"Iran\", \"Date\": \"2020-03-28T00:00:00\", \"Confirmed Deaths\": 2517, \"Days since 10th fatality\": 33}, {\"Country\": \"Iran\", \"Date\": \"2020-03-29T00:00:00\", \"Confirmed Deaths\": 2640, \"Days since 10th fatality\": 34}, {\"Country\": \"Iran\", \"Date\": \"2020-03-30T00:00:00\", \"Confirmed Deaths\": 2757, \"Days since 10th fatality\": 35}, {\"Country\": \"Iraq\", \"Date\": \"2020-03-14T00:00:00\", \"Confirmed Deaths\": 10, \"Days since 10th fatality\": 0}, {\"Country\": \"Iraq\", \"Date\": \"2020-03-15T00:00:00\", \"Confirmed Deaths\": 10, \"Days since 10th fatality\": 1}, {\"Country\": \"Iraq\", \"Date\": \"2020-03-16T00:00:00\", \"Confirmed Deaths\": 10, \"Days since 10th fatality\": 2}, {\"Country\": \"Iraq\", \"Date\": \"2020-03-17T00:00:00\", \"Confirmed Deaths\": 11, \"Days since 10th fatality\": 3}, {\"Country\": \"Iraq\", \"Date\": \"2020-03-18T00:00:00\", \"Confirmed Deaths\": 12, \"Days since 10th fatality\": 4}, {\"Country\": \"Iraq\", \"Date\": \"2020-03-19T00:00:00\", \"Confirmed Deaths\": 13, \"Days since 10th fatality\": 5}, {\"Country\": \"Iraq\", \"Date\": \"2020-03-20T00:00:00\", \"Confirmed Deaths\": 17, \"Days since 10th fatality\": 6}, {\"Country\": \"Iraq\", \"Date\": \"2020-03-21T00:00:00\", \"Confirmed Deaths\": 17, \"Days since 10th fatality\": 7}, {\"Country\": \"Iraq\", \"Date\": \"2020-03-22T00:00:00\", \"Confirmed Deaths\": 20, \"Days since 10th fatality\": 8}, {\"Country\": \"Iraq\", \"Date\": \"2020-03-23T00:00:00\", \"Confirmed Deaths\": 23, \"Days since 10th fatality\": 9}, {\"Country\": \"Iraq\", \"Date\": \"2020-03-24T00:00:00\", \"Confirmed Deaths\": 27, \"Days since 10th fatality\": 10}, {\"Country\": \"Iraq\", \"Date\": \"2020-03-25T00:00:00\", \"Confirmed Deaths\": 29, \"Days since 10th fatality\": 11}, {\"Country\": \"Iraq\", \"Date\": \"2020-03-26T00:00:00\", \"Confirmed Deaths\": 36, \"Days since 10th fatality\": 12}, {\"Country\": \"Iraq\", \"Date\": \"2020-03-27T00:00:00\", \"Confirmed Deaths\": 40, \"Days since 10th fatality\": 13}, {\"Country\": \"Iraq\", \"Date\": \"2020-03-28T00:00:00\", \"Confirmed Deaths\": 42, \"Days since 10th fatality\": 14}, {\"Country\": \"Iraq\", \"Date\": \"2020-03-29T00:00:00\", \"Confirmed Deaths\": 42, \"Days since 10th fatality\": 15}, {\"Country\": \"Iraq\", \"Date\": \"2020-03-30T00:00:00\", \"Confirmed Deaths\": 46, \"Days since 10th fatality\": 16}, {\"Country\": \"Ireland\", \"Date\": \"2020-03-26T00:00:00\", \"Confirmed Deaths\": 19, \"Days since 10th fatality\": 0}, {\"Country\": \"Ireland\", \"Date\": \"2020-03-27T00:00:00\", \"Confirmed Deaths\": 22, \"Days since 10th fatality\": 1}, {\"Country\": \"Ireland\", \"Date\": \"2020-03-28T00:00:00\", \"Confirmed Deaths\": 36, \"Days since 10th fatality\": 2}, {\"Country\": \"Ireland\", \"Date\": \"2020-03-29T00:00:00\", \"Confirmed Deaths\": 46, \"Days since 10th fatality\": 3}, {\"Country\": \"Ireland\", \"Date\": \"2020-03-30T00:00:00\", \"Confirmed Deaths\": 54, \"Days since 10th fatality\": 4}, {\"Country\": \"Israel\", \"Date\": \"2020-03-27T00:00:00\", \"Confirmed Deaths\": 12, \"Days since 10th fatality\": 0}, {\"Country\": \"Israel\", \"Date\": \"2020-03-28T00:00:00\", \"Confirmed Deaths\": 12, \"Days since 10th fatality\": 1}, {\"Country\": \"Israel\", \"Date\": \"2020-03-29T00:00:00\", \"Confirmed Deaths\": 15, \"Days since 10th fatality\": 2}, {\"Country\": \"Israel\", \"Date\": \"2020-03-30T00:00:00\", \"Confirmed Deaths\": 16, \"Days since 10th fatality\": 3}, {\"Country\": \"Italy\", \"Date\": \"2020-02-25T00:00:00\", \"Confirmed Deaths\": 10, \"Days since 10th fatality\": 0}, {\"Country\": \"Italy\", \"Date\": \"2020-02-26T00:00:00\", \"Confirmed Deaths\": 12, \"Days since 10th fatality\": 1}, {\"Country\": \"Italy\", \"Date\": \"2020-02-27T00:00:00\", \"Confirmed Deaths\": 17, \"Days since 10th fatality\": 2}, {\"Country\": \"Italy\", \"Date\": \"2020-02-28T00:00:00\", \"Confirmed Deaths\": 21, \"Days since 10th fatality\": 3}, {\"Country\": \"Italy\", \"Date\": \"2020-02-29T00:00:00\", \"Confirmed Deaths\": 29, \"Days since 10th fatality\": 4}, {\"Country\": \"Italy\", \"Date\": \"2020-03-01T00:00:00\", \"Confirmed Deaths\": 34, \"Days since 10th fatality\": 5}, {\"Country\": \"Italy\", \"Date\": \"2020-03-02T00:00:00\", \"Confirmed Deaths\": 52, \"Days since 10th fatality\": 6}, {\"Country\": \"Italy\", \"Date\": \"2020-03-03T00:00:00\", \"Confirmed Deaths\": 79, \"Days since 10th fatality\": 7}, {\"Country\": \"Italy\", \"Date\": \"2020-03-04T00:00:00\", \"Confirmed Deaths\": 107, \"Days since 10th fatality\": 8}, {\"Country\": \"Italy\", \"Date\": \"2020-03-05T00:00:00\", \"Confirmed Deaths\": 148, \"Days since 10th fatality\": 9}, {\"Country\": \"Italy\", \"Date\": \"2020-03-06T00:00:00\", \"Confirmed Deaths\": 197, \"Days since 10th fatality\": 10}, {\"Country\": \"Italy\", \"Date\": \"2020-03-07T00:00:00\", \"Confirmed Deaths\": 233, \"Days since 10th fatality\": 11}, {\"Country\": \"Italy\", \"Date\": \"2020-03-08T00:00:00\", \"Confirmed Deaths\": 366, \"Days since 10th fatality\": 12}, {\"Country\": \"Italy\", \"Date\": \"2020-03-09T00:00:00\", \"Confirmed Deaths\": 463, \"Days since 10th fatality\": 13}, {\"Country\": \"Italy\", \"Date\": \"2020-03-10T00:00:00\", \"Confirmed Deaths\": 631, \"Days since 10th fatality\": 14}, {\"Country\": \"Italy\", \"Date\": \"2020-03-11T00:00:00\", \"Confirmed Deaths\": 827, \"Days since 10th fatality\": 15}, {\"Country\": \"Italy\", \"Date\": \"2020-03-12T00:00:00\", \"Confirmed Deaths\": 827, \"Days since 10th fatality\": 16}, {\"Country\": \"Italy\", \"Date\": \"2020-03-13T00:00:00\", \"Confirmed Deaths\": 1266, \"Days since 10th fatality\": 17}, {\"Country\": \"Italy\", \"Date\": \"2020-03-14T00:00:00\", \"Confirmed Deaths\": 1441, \"Days since 10th fatality\": 18}, {\"Country\": \"Italy\", \"Date\": \"2020-03-15T00:00:00\", \"Confirmed Deaths\": 1809, \"Days since 10th fatality\": 19}, {\"Country\": \"Italy\", \"Date\": \"2020-03-16T00:00:00\", \"Confirmed Deaths\": 2158, \"Days since 10th fatality\": 20}, {\"Country\": \"Italy\", \"Date\": \"2020-03-17T00:00:00\", \"Confirmed Deaths\": 2503, \"Days since 10th fatality\": 21}, {\"Country\": \"Italy\", \"Date\": \"2020-03-18T00:00:00\", \"Confirmed Deaths\": 2978, \"Days since 10th fatality\": 22}, {\"Country\": \"Italy\", \"Date\": \"2020-03-19T00:00:00\", \"Confirmed Deaths\": 3405, \"Days since 10th fatality\": 23}, {\"Country\": \"Italy\", \"Date\": \"2020-03-20T00:00:00\", \"Confirmed Deaths\": 4032, \"Days since 10th fatality\": 24}, {\"Country\": \"Italy\", \"Date\": \"2020-03-21T00:00:00\", \"Confirmed Deaths\": 4825, \"Days since 10th fatality\": 25}, {\"Country\": \"Italy\", \"Date\": \"2020-03-22T00:00:00\", \"Confirmed Deaths\": 5476, \"Days since 10th fatality\": 26}, {\"Country\": \"Italy\", \"Date\": \"2020-03-23T00:00:00\", \"Confirmed Deaths\": 6077, \"Days since 10th fatality\": 27}, {\"Country\": \"Italy\", \"Date\": \"2020-03-24T00:00:00\", \"Confirmed Deaths\": 6820, \"Days since 10th fatality\": 28}, {\"Country\": \"Italy\", \"Date\": \"2020-03-25T00:00:00\", \"Confirmed Deaths\": 7503, \"Days since 10th fatality\": 29}, {\"Country\": \"Italy\", \"Date\": \"2020-03-26T00:00:00\", \"Confirmed Deaths\": 8215, \"Days since 10th fatality\": 30}, {\"Country\": \"Italy\", \"Date\": \"2020-03-27T00:00:00\", \"Confirmed Deaths\": 9134, \"Days since 10th fatality\": 31}, {\"Country\": \"Italy\", \"Date\": \"2020-03-28T00:00:00\", \"Confirmed Deaths\": 10023, \"Days since 10th fatality\": 32}, {\"Country\": \"Italy\", \"Date\": \"2020-03-29T00:00:00\", \"Confirmed Deaths\": 10779, \"Days since 10th fatality\": 33}, {\"Country\": \"Italy\", \"Date\": \"2020-03-30T00:00:00\", \"Confirmed Deaths\": 11591, \"Days since 10th fatality\": 34}, {\"Country\": \"Japan\", \"Date\": \"2020-03-09T00:00:00\", \"Confirmed Deaths\": 10, \"Days since 10th fatality\": 0}, {\"Country\": \"Japan\", \"Date\": \"2020-03-10T00:00:00\", \"Confirmed Deaths\": 10, \"Days since 10th fatality\": 1}, {\"Country\": \"Japan\", \"Date\": \"2020-03-11T00:00:00\", \"Confirmed Deaths\": 15, \"Days since 10th fatality\": 2}, {\"Country\": \"Japan\", \"Date\": \"2020-03-12T00:00:00\", \"Confirmed Deaths\": 16, \"Days since 10th fatality\": 3}, {\"Country\": \"Japan\", \"Date\": \"2020-03-13T00:00:00\", \"Confirmed Deaths\": 19, \"Days since 10th fatality\": 4}, {\"Country\": \"Japan\", \"Date\": \"2020-03-14T00:00:00\", \"Confirmed Deaths\": 22, \"Days since 10th fatality\": 5}, {\"Country\": \"Japan\", \"Date\": \"2020-03-15T00:00:00\", \"Confirmed Deaths\": 22, \"Days since 10th fatality\": 6}, {\"Country\": \"Japan\", \"Date\": \"2020-03-16T00:00:00\", \"Confirmed Deaths\": 27, \"Days since 10th fatality\": 7}, {\"Country\": \"Japan\", \"Date\": \"2020-03-17T00:00:00\", \"Confirmed Deaths\": 29, \"Days since 10th fatality\": 8}, {\"Country\": \"Japan\", \"Date\": \"2020-03-18T00:00:00\", \"Confirmed Deaths\": 29, \"Days since 10th fatality\": 9}, {\"Country\": \"Japan\", \"Date\": \"2020-03-19T00:00:00\", \"Confirmed Deaths\": 29, \"Days since 10th fatality\": 10}, {\"Country\": \"Japan\", \"Date\": \"2020-03-20T00:00:00\", \"Confirmed Deaths\": 33, \"Days since 10th fatality\": 11}, {\"Country\": \"Japan\", \"Date\": \"2020-03-21T00:00:00\", \"Confirmed Deaths\": 35, \"Days since 10th fatality\": 12}, {\"Country\": \"Japan\", \"Date\": \"2020-03-22T00:00:00\", \"Confirmed Deaths\": 41, \"Days since 10th fatality\": 13}, {\"Country\": \"Japan\", \"Date\": \"2020-03-23T00:00:00\", \"Confirmed Deaths\": 42, \"Days since 10th fatality\": 14}, {\"Country\": \"Japan\", \"Date\": \"2020-03-24T00:00:00\", \"Confirmed Deaths\": 43, \"Days since 10th fatality\": 15}, {\"Country\": \"Japan\", \"Date\": \"2020-03-25T00:00:00\", \"Confirmed Deaths\": 45, \"Days since 10th fatality\": 16}, {\"Country\": \"Japan\", \"Date\": \"2020-03-26T00:00:00\", \"Confirmed Deaths\": 47, \"Days since 10th fatality\": 17}, {\"Country\": \"Japan\", \"Date\": \"2020-03-27T00:00:00\", \"Confirmed Deaths\": 49, \"Days since 10th fatality\": 18}, {\"Country\": \"Japan\", \"Date\": \"2020-03-28T00:00:00\", \"Confirmed Deaths\": 52, \"Days since 10th fatality\": 19}, {\"Country\": \"Japan\", \"Date\": \"2020-03-29T00:00:00\", \"Confirmed Deaths\": 54, \"Days since 10th fatality\": 20}, {\"Country\": \"Japan\", \"Date\": \"2020-03-30T00:00:00\", \"Confirmed Deaths\": 54, \"Days since 10th fatality\": 21}, {\"Country\": \"Lebanon\", \"Date\": \"2020-03-29T00:00:00\", \"Confirmed Deaths\": 10, \"Days since 10th fatality\": 0}, {\"Country\": \"Lebanon\", \"Date\": \"2020-03-30T00:00:00\", \"Confirmed Deaths\": 11, \"Days since 10th fatality\": 1}, {\"Country\": \"Luxembourg\", \"Date\": \"2020-03-27T00:00:00\", \"Confirmed Deaths\": 15, \"Days since 10th fatality\": 0}, {\"Country\": \"Luxembourg\", \"Date\": \"2020-03-28T00:00:00\", \"Confirmed Deaths\": 18, \"Days since 10th fatality\": 1}, {\"Country\": \"Luxembourg\", \"Date\": \"2020-03-29T00:00:00\", \"Confirmed Deaths\": 21, \"Days since 10th fatality\": 2}, {\"Country\": \"Luxembourg\", \"Date\": \"2020-03-30T00:00:00\", \"Confirmed Deaths\": 22, \"Days since 10th fatality\": 3}, {\"Country\": \"Malaysia\", \"Date\": \"2020-03-22T00:00:00\", \"Confirmed Deaths\": 10, \"Days since 10th fatality\": 0}, {\"Country\": \"Malaysia\", \"Date\": \"2020-03-23T00:00:00\", \"Confirmed Deaths\": 14, \"Days since 10th fatality\": 1}, {\"Country\": \"Malaysia\", \"Date\": \"2020-03-24T00:00:00\", \"Confirmed Deaths\": 16, \"Days since 10th fatality\": 2}, {\"Country\": \"Malaysia\", \"Date\": \"2020-03-25T00:00:00\", \"Confirmed Deaths\": 20, \"Days since 10th fatality\": 3}, {\"Country\": \"Malaysia\", \"Date\": \"2020-03-26T00:00:00\", \"Confirmed Deaths\": 23, \"Days since 10th fatality\": 4}, {\"Country\": \"Malaysia\", \"Date\": \"2020-03-27T00:00:00\", \"Confirmed Deaths\": 26, \"Days since 10th fatality\": 5}, {\"Country\": \"Malaysia\", \"Date\": \"2020-03-28T00:00:00\", \"Confirmed Deaths\": 27, \"Days since 10th fatality\": 6}, {\"Country\": \"Malaysia\", \"Date\": \"2020-03-29T00:00:00\", \"Confirmed Deaths\": 35, \"Days since 10th fatality\": 7}, {\"Country\": \"Malaysia\", \"Date\": \"2020-03-30T00:00:00\", \"Confirmed Deaths\": 37, \"Days since 10th fatality\": 8}, {\"Country\": \"Mexico\", \"Date\": \"2020-03-28T00:00:00\", \"Confirmed Deaths\": 12, \"Days since 10th fatality\": 0}, {\"Country\": \"Mexico\", \"Date\": \"2020-03-29T00:00:00\", \"Confirmed Deaths\": 16, \"Days since 10th fatality\": 1}, {\"Country\": \"Mexico\", \"Date\": \"2020-03-30T00:00:00\", \"Confirmed Deaths\": 20, \"Days since 10th fatality\": 2}, {\"Country\": \"Morocco\", \"Date\": \"2020-03-26T00:00:00\", \"Confirmed Deaths\": 11, \"Days since 10th fatality\": 0}, {\"Country\": \"Morocco\", \"Date\": \"2020-03-27T00:00:00\", \"Confirmed Deaths\": 23, \"Days since 10th fatality\": 1}, {\"Country\": \"Morocco\", \"Date\": \"2020-03-28T00:00:00\", \"Confirmed Deaths\": 25, \"Days since 10th fatality\": 2}, {\"Country\": \"Morocco\", \"Date\": \"2020-03-29T00:00:00\", \"Confirmed Deaths\": 26, \"Days since 10th fatality\": 3}, {\"Country\": \"Morocco\", \"Date\": \"2020-03-30T00:00:00\", \"Confirmed Deaths\": 33, \"Days since 10th fatality\": 4}, {\"Country\": \"Netherlands\", \"Date\": \"2020-03-13T00:00:00\", \"Confirmed Deaths\": 10, \"Days since 10th fatality\": 0}, {\"Country\": \"Netherlands\", \"Date\": \"2020-03-14T00:00:00\", \"Confirmed Deaths\": 12, \"Days since 10th fatality\": 1}, {\"Country\": \"Netherlands\", \"Date\": \"2020-03-15T00:00:00\", \"Confirmed Deaths\": 20, \"Days since 10th fatality\": 2}, {\"Country\": \"Netherlands\", \"Date\": \"2020-03-16T00:00:00\", \"Confirmed Deaths\": 24, \"Days since 10th fatality\": 3}, {\"Country\": \"Netherlands\", \"Date\": \"2020-03-17T00:00:00\", \"Confirmed Deaths\": 43, \"Days since 10th fatality\": 4}, {\"Country\": \"Netherlands\", \"Date\": \"2020-03-18T00:00:00\", \"Confirmed Deaths\": 58, \"Days since 10th fatality\": 5}, {\"Country\": \"Netherlands\", \"Date\": \"2020-03-19T00:00:00\", \"Confirmed Deaths\": 77, \"Days since 10th fatality\": 6}, {\"Country\": \"Netherlands\", \"Date\": \"2020-03-20T00:00:00\", \"Confirmed Deaths\": 107, \"Days since 10th fatality\": 7}, {\"Country\": \"Netherlands\", \"Date\": \"2020-03-21T00:00:00\", \"Confirmed Deaths\": 137, \"Days since 10th fatality\": 8}, {\"Country\": \"Netherlands\", \"Date\": \"2020-03-22T00:00:00\", \"Confirmed Deaths\": 180, \"Days since 10th fatality\": 9}, {\"Country\": \"Netherlands\", \"Date\": \"2020-03-23T00:00:00\", \"Confirmed Deaths\": 214, \"Days since 10th fatality\": 10}, {\"Country\": \"Netherlands\", \"Date\": \"2020-03-24T00:00:00\", \"Confirmed Deaths\": 277, \"Days since 10th fatality\": 11}, {\"Country\": \"Netherlands\", \"Date\": \"2020-03-25T00:00:00\", \"Confirmed Deaths\": 357, \"Days since 10th fatality\": 12}, {\"Country\": \"Netherlands\", \"Date\": \"2020-03-26T00:00:00\", \"Confirmed Deaths\": 435, \"Days since 10th fatality\": 13}, {\"Country\": \"Netherlands\", \"Date\": \"2020-03-27T00:00:00\", \"Confirmed Deaths\": 547, \"Days since 10th fatality\": 14}, {\"Country\": \"Netherlands\", \"Date\": \"2020-03-28T00:00:00\", \"Confirmed Deaths\": 640, \"Days since 10th fatality\": 15}, {\"Country\": \"Netherlands\", \"Date\": \"2020-03-29T00:00:00\", \"Confirmed Deaths\": 772, \"Days since 10th fatality\": 16}, {\"Country\": \"Netherlands\", \"Date\": \"2020-03-30T00:00:00\", \"Confirmed Deaths\": 865, \"Days since 10th fatality\": 17}, {\"Country\": \"Norway\", \"Date\": \"2020-03-23T00:00:00\", \"Confirmed Deaths\": 10, \"Days since 10th fatality\": 0}, {\"Country\": \"Norway\", \"Date\": \"2020-03-24T00:00:00\", \"Confirmed Deaths\": 12, \"Days since 10th fatality\": 1}, {\"Country\": \"Norway\", \"Date\": \"2020-03-25T00:00:00\", \"Confirmed Deaths\": 14, \"Days since 10th fatality\": 2}, {\"Country\": \"Norway\", \"Date\": \"2020-03-26T00:00:00\", \"Confirmed Deaths\": 14, \"Days since 10th fatality\": 3}, {\"Country\": \"Norway\", \"Date\": \"2020-03-27T00:00:00\", \"Confirmed Deaths\": 19, \"Days since 10th fatality\": 4}, {\"Country\": \"Norway\", \"Date\": \"2020-03-28T00:00:00\", \"Confirmed Deaths\": 23, \"Days since 10th fatality\": 5}, {\"Country\": \"Norway\", \"Date\": \"2020-03-29T00:00:00\", \"Confirmed Deaths\": 25, \"Days since 10th fatality\": 6}, {\"Country\": \"Norway\", \"Date\": \"2020-03-30T00:00:00\", \"Confirmed Deaths\": 32, \"Days since 10th fatality\": 7}, {\"Country\": \"Pakistan\", \"Date\": \"2020-03-27T00:00:00\", \"Confirmed Deaths\": 11, \"Days since 10th fatality\": 0}, {\"Country\": \"Pakistan\", \"Date\": \"2020-03-28T00:00:00\", \"Confirmed Deaths\": 12, \"Days since 10th fatality\": 1}, {\"Country\": \"Pakistan\", \"Date\": \"2020-03-29T00:00:00\", \"Confirmed Deaths\": 14, \"Days since 10th fatality\": 2}, {\"Country\": \"Pakistan\", \"Date\": \"2020-03-30T00:00:00\", \"Confirmed Deaths\": 21, \"Days since 10th fatality\": 3}, {\"Country\": \"Panama\", \"Date\": \"2020-03-28T00:00:00\", \"Confirmed Deaths\": 14, \"Days since 10th fatality\": 0}, {\"Country\": \"Panama\", \"Date\": \"2020-03-29T00:00:00\", \"Confirmed Deaths\": 17, \"Days since 10th fatality\": 1}, {\"Country\": \"Panama\", \"Date\": \"2020-03-30T00:00:00\", \"Confirmed Deaths\": 24, \"Days since 10th fatality\": 2}, {\"Country\": \"Peru\", \"Date\": \"2020-03-27T00:00:00\", \"Confirmed Deaths\": 11, \"Days since 10th fatality\": 0}, {\"Country\": \"Peru\", \"Date\": \"2020-03-28T00:00:00\", \"Confirmed Deaths\": 16, \"Days since 10th fatality\": 1}, {\"Country\": \"Peru\", \"Date\": \"2020-03-29T00:00:00\", \"Confirmed Deaths\": 18, \"Days since 10th fatality\": 2}, {\"Country\": \"Peru\", \"Date\": \"2020-03-30T00:00:00\", \"Confirmed Deaths\": 24, \"Days since 10th fatality\": 3}, {\"Country\": \"Philippines\", \"Date\": \"2020-03-15T00:00:00\", \"Confirmed Deaths\": 11, \"Days since 10th fatality\": 0}, {\"Country\": \"Philippines\", \"Date\": \"2020-03-16T00:00:00\", \"Confirmed Deaths\": 12, \"Days since 10th fatality\": 1}, {\"Country\": \"Philippines\", \"Date\": \"2020-03-17T00:00:00\", \"Confirmed Deaths\": 12, \"Days since 10th fatality\": 2}, {\"Country\": \"Philippines\", \"Date\": \"2020-03-18T00:00:00\", \"Confirmed Deaths\": 19, \"Days since 10th fatality\": 3}, {\"Country\": \"Philippines\", \"Date\": \"2020-03-19T00:00:00\", \"Confirmed Deaths\": 17, \"Days since 10th fatality\": 4}, {\"Country\": \"Philippines\", \"Date\": \"2020-03-20T00:00:00\", \"Confirmed Deaths\": 18, \"Days since 10th fatality\": 5}, {\"Country\": \"Philippines\", \"Date\": \"2020-03-21T00:00:00\", \"Confirmed Deaths\": 19, \"Days since 10th fatality\": 6}, {\"Country\": \"Philippines\", \"Date\": \"2020-03-22T00:00:00\", \"Confirmed Deaths\": 25, \"Days since 10th fatality\": 7}, {\"Country\": \"Philippines\", \"Date\": \"2020-03-23T00:00:00\", \"Confirmed Deaths\": 33, \"Days since 10th fatality\": 8}, {\"Country\": \"Philippines\", \"Date\": \"2020-03-24T00:00:00\", \"Confirmed Deaths\": 35, \"Days since 10th fatality\": 9}, {\"Country\": \"Philippines\", \"Date\": \"2020-03-25T00:00:00\", \"Confirmed Deaths\": 38, \"Days since 10th fatality\": 10}, {\"Country\": \"Philippines\", \"Date\": \"2020-03-26T00:00:00\", \"Confirmed Deaths\": 45, \"Days since 10th fatality\": 11}, {\"Country\": \"Philippines\", \"Date\": \"2020-03-27T00:00:00\", \"Confirmed Deaths\": 54, \"Days since 10th fatality\": 12}, {\"Country\": \"Philippines\", \"Date\": \"2020-03-28T00:00:00\", \"Confirmed Deaths\": 68, \"Days since 10th fatality\": 13}, {\"Country\": \"Philippines\", \"Date\": \"2020-03-29T00:00:00\", \"Confirmed Deaths\": 71, \"Days since 10th fatality\": 14}, {\"Country\": \"Philippines\", \"Date\": \"2020-03-30T00:00:00\", \"Confirmed Deaths\": 78, \"Days since 10th fatality\": 15}, {\"Country\": \"Poland\", \"Date\": \"2020-03-24T00:00:00\", \"Confirmed Deaths\": 10, \"Days since 10th fatality\": 0}, {\"Country\": \"Poland\", \"Date\": \"2020-03-25T00:00:00\", \"Confirmed Deaths\": 14, \"Days since 10th fatality\": 1}, {\"Country\": \"Poland\", \"Date\": \"2020-03-26T00:00:00\", \"Confirmed Deaths\": 16, \"Days since 10th fatality\": 2}, {\"Country\": \"Poland\", \"Date\": \"2020-03-27T00:00:00\", \"Confirmed Deaths\": 16, \"Days since 10th fatality\": 3}, {\"Country\": \"Poland\", \"Date\": \"2020-03-28T00:00:00\", \"Confirmed Deaths\": 18, \"Days since 10th fatality\": 4}, {\"Country\": \"Poland\", \"Date\": \"2020-03-29T00:00:00\", \"Confirmed Deaths\": 22, \"Days since 10th fatality\": 5}, {\"Country\": \"Poland\", \"Date\": \"2020-03-30T00:00:00\", \"Confirmed Deaths\": 31, \"Days since 10th fatality\": 6}, {\"Country\": \"Portugal\", \"Date\": \"2020-03-21T00:00:00\", \"Confirmed Deaths\": 12, \"Days since 10th fatality\": 0}, {\"Country\": \"Portugal\", \"Date\": \"2020-03-22T00:00:00\", \"Confirmed Deaths\": 14, \"Days since 10th fatality\": 1}, {\"Country\": \"Portugal\", \"Date\": \"2020-03-23T00:00:00\", \"Confirmed Deaths\": 23, \"Days since 10th fatality\": 2}, {\"Country\": \"Portugal\", \"Date\": \"2020-03-24T00:00:00\", \"Confirmed Deaths\": 33, \"Days since 10th fatality\": 3}, {\"Country\": \"Portugal\", \"Date\": \"2020-03-25T00:00:00\", \"Confirmed Deaths\": 43, \"Days since 10th fatality\": 4}, {\"Country\": \"Portugal\", \"Date\": \"2020-03-26T00:00:00\", \"Confirmed Deaths\": 60, \"Days since 10th fatality\": 5}, {\"Country\": \"Portugal\", \"Date\": \"2020-03-27T00:00:00\", \"Confirmed Deaths\": 76, \"Days since 10th fatality\": 6}, {\"Country\": \"Portugal\", \"Date\": \"2020-03-28T00:00:00\", \"Confirmed Deaths\": 100, \"Days since 10th fatality\": 7}, {\"Country\": \"Portugal\", \"Date\": \"2020-03-29T00:00:00\", \"Confirmed Deaths\": 119, \"Days since 10th fatality\": 8}, {\"Country\": \"Portugal\", \"Date\": \"2020-03-30T00:00:00\", \"Confirmed Deaths\": 140, \"Days since 10th fatality\": 9}, {\"Country\": \"Romania\", \"Date\": \"2020-03-24T00:00:00\", \"Confirmed Deaths\": 11, \"Days since 10th fatality\": 0}, {\"Country\": \"Romania\", \"Date\": \"2020-03-25T00:00:00\", \"Confirmed Deaths\": 17, \"Days since 10th fatality\": 1}, {\"Country\": \"Romania\", \"Date\": \"2020-03-26T00:00:00\", \"Confirmed Deaths\": 23, \"Days since 10th fatality\": 2}, {\"Country\": \"Romania\", \"Date\": \"2020-03-27T00:00:00\", \"Confirmed Deaths\": 26, \"Days since 10th fatality\": 3}, {\"Country\": \"Romania\", \"Date\": \"2020-03-28T00:00:00\", \"Confirmed Deaths\": 37, \"Days since 10th fatality\": 4}, {\"Country\": \"Romania\", \"Date\": \"2020-03-29T00:00:00\", \"Confirmed Deaths\": 43, \"Days since 10th fatality\": 5}, {\"Country\": \"Romania\", \"Date\": \"2020-03-30T00:00:00\", \"Confirmed Deaths\": 65, \"Days since 10th fatality\": 6}, {\"Country\": \"San Marino\", \"Date\": \"2020-03-18T00:00:00\", \"Confirmed Deaths\": 11, \"Days since 10th fatality\": 0}, {\"Country\": \"San Marino\", \"Date\": \"2020-03-19T00:00:00\", \"Confirmed Deaths\": 11, \"Days since 10th fatality\": 1}, {\"Country\": \"San Marino\", \"Date\": \"2020-03-20T00:00:00\", \"Confirmed Deaths\": 14, \"Days since 10th fatality\": 2}, {\"Country\": \"San Marino\", \"Date\": \"2020-03-21T00:00:00\", \"Confirmed Deaths\": 20, \"Days since 10th fatality\": 3}, {\"Country\": \"San Marino\", \"Date\": \"2020-03-22T00:00:00\", \"Confirmed Deaths\": 20, \"Days since 10th fatality\": 4}, {\"Country\": \"San Marino\", \"Date\": \"2020-03-23T00:00:00\", \"Confirmed Deaths\": 20, \"Days since 10th fatality\": 5}, {\"Country\": \"San Marino\", \"Date\": \"2020-03-24T00:00:00\", \"Confirmed Deaths\": 21, \"Days since 10th fatality\": 6}, {\"Country\": \"San Marino\", \"Date\": \"2020-03-25T00:00:00\", \"Confirmed Deaths\": 21, \"Days since 10th fatality\": 7}, {\"Country\": \"San Marino\", \"Date\": \"2020-03-26T00:00:00\", \"Confirmed Deaths\": 21, \"Days since 10th fatality\": 8}, {\"Country\": \"San Marino\", \"Date\": \"2020-03-27T00:00:00\", \"Confirmed Deaths\": 21, \"Days since 10th fatality\": 9}, {\"Country\": \"San Marino\", \"Date\": \"2020-03-28T00:00:00\", \"Confirmed Deaths\": 22, \"Days since 10th fatality\": 10}, {\"Country\": \"San Marino\", \"Date\": \"2020-03-29T00:00:00\", \"Confirmed Deaths\": 22, \"Days since 10th fatality\": 11}, {\"Country\": \"San Marino\", \"Date\": \"2020-03-30T00:00:00\", \"Confirmed Deaths\": 25, \"Days since 10th fatality\": 12}, {\"Country\": \"Serbia\", \"Date\": \"2020-03-28T00:00:00\", \"Confirmed Deaths\": 10, \"Days since 10th fatality\": 0}, {\"Country\": \"Serbia\", \"Date\": \"2020-03-29T00:00:00\", \"Confirmed Deaths\": 13, \"Days since 10th fatality\": 1}, {\"Country\": \"Serbia\", \"Date\": \"2020-03-30T00:00:00\", \"Confirmed Deaths\": 16, \"Days since 10th fatality\": 2}, {\"Country\": \"Slovenia\", \"Date\": \"2020-03-29T00:00:00\", \"Confirmed Deaths\": 11, \"Days since 10th fatality\": 0}, {\"Country\": \"Slovenia\", \"Date\": \"2020-03-30T00:00:00\", \"Confirmed Deaths\": 11, \"Days since 10th fatality\": 1}, {\"Country\": \"South Korea\", \"Date\": \"2020-02-25T00:00:00\", \"Confirmed Deaths\": 10, \"Days since 10th fatality\": 0}, {\"Country\": \"South Korea\", \"Date\": \"2020-02-26T00:00:00\", \"Confirmed Deaths\": 12, \"Days since 10th fatality\": 1}, {\"Country\": \"South Korea\", \"Date\": \"2020-02-27T00:00:00\", \"Confirmed Deaths\": 13, \"Days since 10th fatality\": 2}, {\"Country\": \"South Korea\", \"Date\": \"2020-02-28T00:00:00\", \"Confirmed Deaths\": 13, \"Days since 10th fatality\": 3}, {\"Country\": \"South Korea\", \"Date\": \"2020-02-29T00:00:00\", \"Confirmed Deaths\": 16, \"Days since 10th fatality\": 4}, {\"Country\": \"South Korea\", \"Date\": \"2020-03-01T00:00:00\", \"Confirmed Deaths\": 17, \"Days since 10th fatality\": 5}, {\"Country\": \"South Korea\", \"Date\": \"2020-03-02T00:00:00\", \"Confirmed Deaths\": 28, \"Days since 10th fatality\": 6}, {\"Country\": \"South Korea\", \"Date\": \"2020-03-03T00:00:00\", \"Confirmed Deaths\": 28, \"Days since 10th fatality\": 7}, {\"Country\": \"South Korea\", \"Date\": \"2020-03-04T00:00:00\", \"Confirmed Deaths\": 35, \"Days since 10th fatality\": 8}, {\"Country\": \"South Korea\", \"Date\": \"2020-03-05T00:00:00\", \"Confirmed Deaths\": 35, \"Days since 10th fatality\": 9}, {\"Country\": \"South Korea\", \"Date\": \"2020-03-06T00:00:00\", \"Confirmed Deaths\": 42, \"Days since 10th fatality\": 10}, {\"Country\": \"South Korea\", \"Date\": \"2020-03-07T00:00:00\", \"Confirmed Deaths\": 44, \"Days since 10th fatality\": 11}, {\"Country\": \"South Korea\", \"Date\": \"2020-03-08T00:00:00\", \"Confirmed Deaths\": 50, \"Days since 10th fatality\": 12}, {\"Country\": \"South Korea\", \"Date\": \"2020-03-09T00:00:00\", \"Confirmed Deaths\": 53, \"Days since 10th fatality\": 13}, {\"Country\": \"South Korea\", \"Date\": \"2020-03-10T00:00:00\", \"Confirmed Deaths\": 54, \"Days since 10th fatality\": 14}, {\"Country\": \"South Korea\", \"Date\": \"2020-03-11T00:00:00\", \"Confirmed Deaths\": 60, \"Days since 10th fatality\": 15}, {\"Country\": \"South Korea\", \"Date\": \"2020-03-12T00:00:00\", \"Confirmed Deaths\": 66, \"Days since 10th fatality\": 16}, {\"Country\": \"South Korea\", \"Date\": \"2020-03-13T00:00:00\", \"Confirmed Deaths\": 66, \"Days since 10th fatality\": 17}, {\"Country\": \"South Korea\", \"Date\": \"2020-03-14T00:00:00\", \"Confirmed Deaths\": 72, \"Days since 10th fatality\": 18}, {\"Country\": \"South Korea\", \"Date\": \"2020-03-15T00:00:00\", \"Confirmed Deaths\": 75, \"Days since 10th fatality\": 19}, {\"Country\": \"South Korea\", \"Date\": \"2020-03-16T00:00:00\", \"Confirmed Deaths\": 75, \"Days since 10th fatality\": 20}, {\"Country\": \"South Korea\", \"Date\": \"2020-03-17T00:00:00\", \"Confirmed Deaths\": 81, \"Days since 10th fatality\": 21}, {\"Country\": \"South Korea\", \"Date\": \"2020-03-18T00:00:00\", \"Confirmed Deaths\": 84, \"Days since 10th fatality\": 22}, {\"Country\": \"South Korea\", \"Date\": \"2020-03-19T00:00:00\", \"Confirmed Deaths\": 91, \"Days since 10th fatality\": 23}, {\"Country\": \"South Korea\", \"Date\": \"2020-03-20T00:00:00\", \"Confirmed Deaths\": 94, \"Days since 10th fatality\": 24}, {\"Country\": \"South Korea\", \"Date\": \"2020-03-21T00:00:00\", \"Confirmed Deaths\": 102, \"Days since 10th fatality\": 25}, {\"Country\": \"South Korea\", \"Date\": \"2020-03-22T00:00:00\", \"Confirmed Deaths\": 111, \"Days since 10th fatality\": 26}, {\"Country\": \"South Korea\", \"Date\": \"2020-03-23T00:00:00\", \"Confirmed Deaths\": 111, \"Days since 10th fatality\": 27}, {\"Country\": \"South Korea\", \"Date\": \"2020-03-24T00:00:00\", \"Confirmed Deaths\": 120, \"Days since 10th fatality\": 28}, {\"Country\": \"South Korea\", \"Date\": \"2020-03-25T00:00:00\", \"Confirmed Deaths\": 126, \"Days since 10th fatality\": 29}, {\"Country\": \"South Korea\", \"Date\": \"2020-03-26T00:00:00\", \"Confirmed Deaths\": 131, \"Days since 10th fatality\": 30}, {\"Country\": \"South Korea\", \"Date\": \"2020-03-27T00:00:00\", \"Confirmed Deaths\": 139, \"Days since 10th fatality\": 31}, {\"Country\": \"South Korea\", \"Date\": \"2020-03-28T00:00:00\", \"Confirmed Deaths\": 144, \"Days since 10th fatality\": 32}, {\"Country\": \"South Korea\", \"Date\": \"2020-03-29T00:00:00\", \"Confirmed Deaths\": 152, \"Days since 10th fatality\": 33}, {\"Country\": \"South Korea\", \"Date\": \"2020-03-30T00:00:00\", \"Confirmed Deaths\": 158, \"Days since 10th fatality\": 34}, {\"Country\": \"Spain\", \"Date\": \"2020-03-07T00:00:00\", \"Confirmed Deaths\": 10, \"Days since 10th fatality\": 0}, {\"Country\": \"Spain\", \"Date\": \"2020-03-08T00:00:00\", \"Confirmed Deaths\": 17, \"Days since 10th fatality\": 1}, {\"Country\": \"Spain\", \"Date\": \"2020-03-09T00:00:00\", \"Confirmed Deaths\": 28, \"Days since 10th fatality\": 2}, {\"Country\": \"Spain\", \"Date\": \"2020-03-10T00:00:00\", \"Confirmed Deaths\": 35, \"Days since 10th fatality\": 3}, {\"Country\": \"Spain\", \"Date\": \"2020-03-11T00:00:00\", \"Confirmed Deaths\": 54, \"Days since 10th fatality\": 4}, {\"Country\": \"Spain\", \"Date\": \"2020-03-12T00:00:00\", \"Confirmed Deaths\": 55, \"Days since 10th fatality\": 5}, {\"Country\": \"Spain\", \"Date\": \"2020-03-13T00:00:00\", \"Confirmed Deaths\": 133, \"Days since 10th fatality\": 6}, {\"Country\": \"Spain\", \"Date\": \"2020-03-14T00:00:00\", \"Confirmed Deaths\": 195, \"Days since 10th fatality\": 7}, {\"Country\": \"Spain\", \"Date\": \"2020-03-15T00:00:00\", \"Confirmed Deaths\": 289, \"Days since 10th fatality\": 8}, {\"Country\": \"Spain\", \"Date\": \"2020-03-16T00:00:00\", \"Confirmed Deaths\": 342, \"Days since 10th fatality\": 9}, {\"Country\": \"Spain\", \"Date\": \"2020-03-17T00:00:00\", \"Confirmed Deaths\": 533, \"Days since 10th fatality\": 10}, {\"Country\": \"Spain\", \"Date\": \"2020-03-18T00:00:00\", \"Confirmed Deaths\": 623, \"Days since 10th fatality\": 11}, {\"Country\": \"Spain\", \"Date\": \"2020-03-19T00:00:00\", \"Confirmed Deaths\": 830, \"Days since 10th fatality\": 12}, {\"Country\": \"Spain\", \"Date\": \"2020-03-20T00:00:00\", \"Confirmed Deaths\": 1043, \"Days since 10th fatality\": 13}, {\"Country\": \"Spain\", \"Date\": \"2020-03-21T00:00:00\", \"Confirmed Deaths\": 1375, \"Days since 10th fatality\": 14}, {\"Country\": \"Spain\", \"Date\": \"2020-03-22T00:00:00\", \"Confirmed Deaths\": 1772, \"Days since 10th fatality\": 15}, {\"Country\": \"Spain\", \"Date\": \"2020-03-23T00:00:00\", \"Confirmed Deaths\": 2311, \"Days since 10th fatality\": 16}, {\"Country\": \"Spain\", \"Date\": \"2020-03-24T00:00:00\", \"Confirmed Deaths\": 2808, \"Days since 10th fatality\": 17}, {\"Country\": \"Spain\", \"Date\": \"2020-03-25T00:00:00\", \"Confirmed Deaths\": 3647, \"Days since 10th fatality\": 18}, {\"Country\": \"Spain\", \"Date\": \"2020-03-26T00:00:00\", \"Confirmed Deaths\": 4365, \"Days since 10th fatality\": 19}, {\"Country\": \"Spain\", \"Date\": \"2020-03-27T00:00:00\", \"Confirmed Deaths\": 5138, \"Days since 10th fatality\": 20}, {\"Country\": \"Spain\", \"Date\": \"2020-03-28T00:00:00\", \"Confirmed Deaths\": 5982, \"Days since 10th fatality\": 21}, {\"Country\": \"Spain\", \"Date\": \"2020-03-29T00:00:00\", \"Confirmed Deaths\": 6803, \"Days since 10th fatality\": 22}, {\"Country\": \"Spain\", \"Date\": \"2020-03-30T00:00:00\", \"Confirmed Deaths\": 7716, \"Days since 10th fatality\": 23}, {\"Country\": \"Sweden\", \"Date\": \"2020-03-18T00:00:00\", \"Confirmed Deaths\": 10, \"Days since 10th fatality\": 0}, {\"Country\": \"Sweden\", \"Date\": \"2020-03-19T00:00:00\", \"Confirmed Deaths\": 11, \"Days since 10th fatality\": 1}, {\"Country\": \"Sweden\", \"Date\": \"2020-03-20T00:00:00\", \"Confirmed Deaths\": 16, \"Days since 10th fatality\": 2}, {\"Country\": \"Sweden\", \"Date\": \"2020-03-21T00:00:00\", \"Confirmed Deaths\": 20, \"Days since 10th fatality\": 3}, {\"Country\": \"Sweden\", \"Date\": \"2020-03-22T00:00:00\", \"Confirmed Deaths\": 21, \"Days since 10th fatality\": 4}, {\"Country\": \"Sweden\", \"Date\": \"2020-03-23T00:00:00\", \"Confirmed Deaths\": 25, \"Days since 10th fatality\": 5}, {\"Country\": \"Sweden\", \"Date\": \"2020-03-24T00:00:00\", \"Confirmed Deaths\": 36, \"Days since 10th fatality\": 6}, {\"Country\": \"Sweden\", \"Date\": \"2020-03-25T00:00:00\", \"Confirmed Deaths\": 62, \"Days since 10th fatality\": 7}, {\"Country\": \"Sweden\", \"Date\": \"2020-03-26T00:00:00\", \"Confirmed Deaths\": 77, \"Days since 10th fatality\": 8}, {\"Country\": \"Sweden\", \"Date\": \"2020-03-27T00:00:00\", \"Confirmed Deaths\": 105, \"Days since 10th fatality\": 9}, {\"Country\": \"Sweden\", \"Date\": \"2020-03-28T00:00:00\", \"Confirmed Deaths\": 105, \"Days since 10th fatality\": 10}, {\"Country\": \"Sweden\", \"Date\": \"2020-03-29T00:00:00\", \"Confirmed Deaths\": 110, \"Days since 10th fatality\": 11}, {\"Country\": \"Sweden\", \"Date\": \"2020-03-30T00:00:00\", \"Confirmed Deaths\": 146, \"Days since 10th fatality\": 12}, {\"Country\": \"Switzerland\", \"Date\": \"2020-03-13T00:00:00\", \"Confirmed Deaths\": 11, \"Days since 10th fatality\": 0}, {\"Country\": \"Switzerland\", \"Date\": \"2020-03-14T00:00:00\", \"Confirmed Deaths\": 13, \"Days since 10th fatality\": 1}, {\"Country\": \"Switzerland\", \"Date\": \"2020-03-15T00:00:00\", \"Confirmed Deaths\": 14, \"Days since 10th fatality\": 2}, {\"Country\": \"Switzerland\", \"Date\": \"2020-03-16T00:00:00\", \"Confirmed Deaths\": 14, \"Days since 10th fatality\": 3}, {\"Country\": \"Switzerland\", \"Date\": \"2020-03-17T00:00:00\", \"Confirmed Deaths\": 27, \"Days since 10th fatality\": 4}, {\"Country\": \"Switzerland\", \"Date\": \"2020-03-18T00:00:00\", \"Confirmed Deaths\": 28, \"Days since 10th fatality\": 5}, {\"Country\": \"Switzerland\", \"Date\": \"2020-03-19T00:00:00\", \"Confirmed Deaths\": 41, \"Days since 10th fatality\": 6}, {\"Country\": \"Switzerland\", \"Date\": \"2020-03-20T00:00:00\", \"Confirmed Deaths\": 54, \"Days since 10th fatality\": 7}, {\"Country\": \"Switzerland\", \"Date\": \"2020-03-21T00:00:00\", \"Confirmed Deaths\": 75, \"Days since 10th fatality\": 8}, {\"Country\": \"Switzerland\", \"Date\": \"2020-03-22T00:00:00\", \"Confirmed Deaths\": 98, \"Days since 10th fatality\": 9}, {\"Country\": \"Switzerland\", \"Date\": \"2020-03-23T00:00:00\", \"Confirmed Deaths\": 120, \"Days since 10th fatality\": 10}, {\"Country\": \"Switzerland\", \"Date\": \"2020-03-24T00:00:00\", \"Confirmed Deaths\": 122, \"Days since 10th fatality\": 11}, {\"Country\": \"Switzerland\", \"Date\": \"2020-03-25T00:00:00\", \"Confirmed Deaths\": 153, \"Days since 10th fatality\": 12}, {\"Country\": \"Switzerland\", \"Date\": \"2020-03-26T00:00:00\", \"Confirmed Deaths\": 191, \"Days since 10th fatality\": 13}, {\"Country\": \"Switzerland\", \"Date\": \"2020-03-27T00:00:00\", \"Confirmed Deaths\": 231, \"Days since 10th fatality\": 14}, {\"Country\": \"Switzerland\", \"Date\": \"2020-03-28T00:00:00\", \"Confirmed Deaths\": 264, \"Days since 10th fatality\": 15}, {\"Country\": \"Switzerland\", \"Date\": \"2020-03-29T00:00:00\", \"Confirmed Deaths\": 300, \"Days since 10th fatality\": 16}, {\"Country\": \"Switzerland\", \"Date\": \"2020-03-30T00:00:00\", \"Confirmed Deaths\": 359, \"Days since 10th fatality\": 17}, {\"Country\": \"Turkey\", \"Date\": \"2020-03-22T00:00:00\", \"Confirmed Deaths\": 30, \"Days since 10th fatality\": 0}, {\"Country\": \"Turkey\", \"Date\": \"2020-03-23T00:00:00\", \"Confirmed Deaths\": 37, \"Days since 10th fatality\": 1}, {\"Country\": \"Turkey\", \"Date\": \"2020-03-24T00:00:00\", \"Confirmed Deaths\": 44, \"Days since 10th fatality\": 2}, {\"Country\": \"Turkey\", \"Date\": \"2020-03-25T00:00:00\", \"Confirmed Deaths\": 59, \"Days since 10th fatality\": 3}, {\"Country\": \"Turkey\", \"Date\": \"2020-03-26T00:00:00\", \"Confirmed Deaths\": 75, \"Days since 10th fatality\": 4}, {\"Country\": \"Turkey\", \"Date\": \"2020-03-27T00:00:00\", \"Confirmed Deaths\": 92, \"Days since 10th fatality\": 5}, {\"Country\": \"Turkey\", \"Date\": \"2020-03-28T00:00:00\", \"Confirmed Deaths\": 108, \"Days since 10th fatality\": 6}, {\"Country\": \"Turkey\", \"Date\": \"2020-03-29T00:00:00\", \"Confirmed Deaths\": 131, \"Days since 10th fatality\": 7}, {\"Country\": \"Turkey\", \"Date\": \"2020-03-30T00:00:00\", \"Confirmed Deaths\": 168, \"Days since 10th fatality\": 8}, {\"Country\": \"US\", \"Date\": \"2020-03-04T00:00:00\", \"Confirmed Deaths\": 11, \"Days since 10th fatality\": 0}, {\"Country\": \"US\", \"Date\": \"2020-03-05T00:00:00\", \"Confirmed Deaths\": 12, \"Days since 10th fatality\": 1}, {\"Country\": \"US\", \"Date\": \"2020-03-06T00:00:00\", \"Confirmed Deaths\": 14, \"Days since 10th fatality\": 2}, {\"Country\": \"US\", \"Date\": \"2020-03-07T00:00:00\", \"Confirmed Deaths\": 17, \"Days since 10th fatality\": 3}, {\"Country\": \"US\", \"Date\": \"2020-03-08T00:00:00\", \"Confirmed Deaths\": 21, \"Days since 10th fatality\": 4}, {\"Country\": \"US\", \"Date\": \"2020-03-09T00:00:00\", \"Confirmed Deaths\": 22, \"Days since 10th fatality\": 5}, {\"Country\": \"US\", \"Date\": \"2020-03-10T00:00:00\", \"Confirmed Deaths\": 28, \"Days since 10th fatality\": 6}, {\"Country\": \"US\", \"Date\": \"2020-03-11T00:00:00\", \"Confirmed Deaths\": 36, \"Days since 10th fatality\": 7}, {\"Country\": \"US\", \"Date\": \"2020-03-12T00:00:00\", \"Confirmed Deaths\": 40, \"Days since 10th fatality\": 8}, {\"Country\": \"US\", \"Date\": \"2020-03-13T00:00:00\", \"Confirmed Deaths\": 47, \"Days since 10th fatality\": 9}, {\"Country\": \"US\", \"Date\": \"2020-03-14T00:00:00\", \"Confirmed Deaths\": 54, \"Days since 10th fatality\": 10}, {\"Country\": \"US\", \"Date\": \"2020-03-15T00:00:00\", \"Confirmed Deaths\": 63, \"Days since 10th fatality\": 11}, {\"Country\": \"US\", \"Date\": \"2020-03-16T00:00:00\", \"Confirmed Deaths\": 85, \"Days since 10th fatality\": 12}, {\"Country\": \"US\", \"Date\": \"2020-03-17T00:00:00\", \"Confirmed Deaths\": 108, \"Days since 10th fatality\": 13}, {\"Country\": \"US\", \"Date\": \"2020-03-18T00:00:00\", \"Confirmed Deaths\": 118, \"Days since 10th fatality\": 14}, {\"Country\": \"US\", \"Date\": \"2020-03-19T00:00:00\", \"Confirmed Deaths\": 200, \"Days since 10th fatality\": 15}, {\"Country\": \"US\", \"Date\": \"2020-03-20T00:00:00\", \"Confirmed Deaths\": 244, \"Days since 10th fatality\": 16}, {\"Country\": \"US\", \"Date\": \"2020-03-21T00:00:00\", \"Confirmed Deaths\": 307, \"Days since 10th fatality\": 17}, {\"Country\": \"US\", \"Date\": \"2020-03-22T00:00:00\", \"Confirmed Deaths\": 417, \"Days since 10th fatality\": 18}, {\"Country\": \"US\", \"Date\": \"2020-03-23T00:00:00\", \"Confirmed Deaths\": 557, \"Days since 10th fatality\": 19}, {\"Country\": \"US\", \"Date\": \"2020-03-24T00:00:00\", \"Confirmed Deaths\": 706, \"Days since 10th fatality\": 20}, {\"Country\": \"US\", \"Date\": \"2020-03-25T00:00:00\", \"Confirmed Deaths\": 942, \"Days since 10th fatality\": 21}, {\"Country\": \"US\", \"Date\": \"2020-03-26T00:00:00\", \"Confirmed Deaths\": 1209, \"Days since 10th fatality\": 22}, {\"Country\": \"US\", \"Date\": \"2020-03-27T00:00:00\", \"Confirmed Deaths\": 1581, \"Days since 10th fatality\": 23}, {\"Country\": \"US\", \"Date\": \"2020-03-28T00:00:00\", \"Confirmed Deaths\": 2026, \"Days since 10th fatality\": 24}, {\"Country\": \"US\", \"Date\": \"2020-03-29T00:00:00\", \"Confirmed Deaths\": 2467, \"Days since 10th fatality\": 25}, {\"Country\": \"US\", \"Date\": \"2020-03-30T00:00:00\", \"Confirmed Deaths\": 2978, \"Days since 10th fatality\": 26}, {\"Country\": \"Ukraine\", \"Date\": \"2020-03-29T00:00:00\", \"Confirmed Deaths\": 10, \"Days since 10th fatality\": 0}, {\"Country\": \"Ukraine\", \"Date\": \"2020-03-30T00:00:00\", \"Confirmed Deaths\": 13, \"Days since 10th fatality\": 1}, {\"Country\": \"United Kingdom\", \"Date\": \"2020-03-14T00:00:00\", \"Confirmed Deaths\": 21, \"Days since 10th fatality\": 0}, {\"Country\": \"United Kingdom\", \"Date\": \"2020-03-15T00:00:00\", \"Confirmed Deaths\": 21, \"Days since 10th fatality\": 1}, {\"Country\": \"United Kingdom\", \"Date\": \"2020-03-16T00:00:00\", \"Confirmed Deaths\": 56, \"Days since 10th fatality\": 2}, {\"Country\": \"United Kingdom\", \"Date\": \"2020-03-17T00:00:00\", \"Confirmed Deaths\": 56, \"Days since 10th fatality\": 3}, {\"Country\": \"United Kingdom\", \"Date\": \"2020-03-18T00:00:00\", \"Confirmed Deaths\": 72, \"Days since 10th fatality\": 4}, {\"Country\": \"United Kingdom\", \"Date\": \"2020-03-19T00:00:00\", \"Confirmed Deaths\": 138, \"Days since 10th fatality\": 5}, {\"Country\": \"United Kingdom\", \"Date\": \"2020-03-20T00:00:00\", \"Confirmed Deaths\": 178, \"Days since 10th fatality\": 6}, {\"Country\": \"United Kingdom\", \"Date\": \"2020-03-21T00:00:00\", \"Confirmed Deaths\": 234, \"Days since 10th fatality\": 7}, {\"Country\": \"United Kingdom\", \"Date\": \"2020-03-22T00:00:00\", \"Confirmed Deaths\": 282, \"Days since 10th fatality\": 8}, {\"Country\": \"United Kingdom\", \"Date\": \"2020-03-23T00:00:00\", \"Confirmed Deaths\": 336, \"Days since 10th fatality\": 9}, {\"Country\": \"United Kingdom\", \"Date\": \"2020-03-24T00:00:00\", \"Confirmed Deaths\": 423, \"Days since 10th fatality\": 10}, {\"Country\": \"United Kingdom\", \"Date\": \"2020-03-25T00:00:00\", \"Confirmed Deaths\": 466, \"Days since 10th fatality\": 11}, {\"Country\": \"United Kingdom\", \"Date\": \"2020-03-26T00:00:00\", \"Confirmed Deaths\": 580, \"Days since 10th fatality\": 12}, {\"Country\": \"United Kingdom\", \"Date\": \"2020-03-27T00:00:00\", \"Confirmed Deaths\": 761, \"Days since 10th fatality\": 13}, {\"Country\": \"United Kingdom\", \"Date\": \"2020-03-28T00:00:00\", \"Confirmed Deaths\": 1021, \"Days since 10th fatality\": 14}, {\"Country\": \"United Kingdom\", \"Date\": \"2020-03-29T00:00:00\", \"Confirmed Deaths\": 1231, \"Days since 10th fatality\": 15}, {\"Country\": \"United Kingdom\", \"Date\": \"2020-03-30T00:00:00\", \"Confirmed Deaths\": 1411, \"Days since 10th fatality\": 16}], \"data-f17fac8a3fb41b194f961a3c6db5aad4\": [{\"Days since 10th fatality\": 0, \"a1\": 10.0, \"a2\": 10.0, \"a3\": 10.0, \"a7\": 10.0}, {\"Days since 10th fatality\": 1, \"a1\": 20.0, \"a2\": 14.14213562373095, \"a3\": 12.599210498948732, \"a7\": 11.040895136738122}, {\"Days since 10th fatality\": 2, \"a1\": 40.0, \"a2\": 19.999999999999996, \"a3\": 15.874010519681995, \"a7\": 12.190136542044751}, {\"Days since 10th fatality\": 3, \"a1\": 80.0, \"a2\": 28.284271247461895, \"a3\": 20.0, \"a7\": 13.459001926323557}, {\"Days since 10th fatality\": 4, \"a1\": 160.0, \"a2\": 39.999999999999986, \"a3\": 25.198420997897465, \"a7\": 14.85994289136948}, {\"Days since 10th fatality\": 5, \"a1\": 320.0, \"a2\": 56.568542494923776, \"a3\": 31.74802103936399, \"a7\": 16.406707120152753}, {\"Days since 10th fatality\": 6, \"a1\": 640.0, \"a2\": 79.99999999999996, \"a3\": 40.00000000000001, \"a7\": 18.114473285278127}, {\"Days since 10th fatality\": 7, \"a1\": 1280.0, \"a2\": 113.13708498984754, \"a3\": 50.39684199579494, \"a7\": 19.99999999999999}, {\"Days since 10th fatality\": 8, \"a1\": 2560.0, \"a2\": 159.9999999999999, \"a3\": 63.496042078727996, \"a7\": 22.08179027347623}, {\"Days since 10th fatality\": 9, \"a1\": 5120.0, \"a2\": 226.27416997969502, \"a3\": 80.00000000000001, \"a7\": 24.380273084089488}, {\"Days since 10th fatality\": 10, \"a1\": 10240.0, \"a2\": 319.9999999999997, \"a3\": 100.79368399158987, \"a7\": 26.9180038526471}, {\"Days since 10th fatality\": 11, \"a1\": 20480.0, \"a2\": 452.54833995939, \"a3\": 126.99208415745599, \"a7\": 29.71988578273894}, {\"Days since 10th fatality\": 12, \"a1\": 40960.0, \"a2\": 639.9999999999993, \"a3\": 160.00000000000003, \"a7\": 32.81341424030549}, {\"Days since 10th fatality\": 13, \"a1\": 81920.0, \"a2\": 905.0966799187797, \"a3\": 201.58736798317975, \"a7\": 36.22894657055623}, {\"Days since 10th fatality\": 14, \"a1\": 163840.0, \"a2\": 1279.9999999999984, \"a3\": 253.984168314912, \"a7\": 39.99999999999996}, {\"Days since 10th fatality\": 15, \"a1\": 327680.0, \"a2\": 1810.1933598375592, \"a3\": 320.00000000000006, \"a7\": 44.163580546952446}, {\"Days since 10th fatality\": 16, \"a1\": 655360.0, \"a2\": 2559.9999999999964, \"a3\": 403.17473596635955, \"a7\": 48.760546168178955}, {\"Days since 10th fatality\": 17, \"a1\": 1310720.0, \"a2\": 3620.386719675118, \"a3\": 507.968336629824, \"a7\": 53.83600770529418}, {\"Days since 10th fatality\": 18, \"a1\": 2621440.0, \"a2\": 5119.999999999992, \"a3\": 640.0000000000002, \"a7\": 59.439771565477855}, {\"Days since 10th fatality\": 19, \"a1\": 5242880.0, \"a2\": 7240.773439350234, \"a3\": 806.3494719327191, \"a7\": 65.62682848061094}, {\"Days since 10th fatality\": 20, \"a1\": 10485760.0, \"a2\": 10239.999999999982, \"a3\": 1015.936673259648, \"a7\": 72.45789314111242}, {\"Days since 10th fatality\": 21, \"a1\": 20971520.0, \"a2\": 14481.546878700467, \"a3\": 1280.0000000000005, \"a7\": 79.99999999999987}, {\"Days since 10th fatality\": 22, \"a1\": 41943040.0, \"a2\": 20479.99999999996, \"a3\": 1612.6989438654382, \"a7\": 88.32716109390483}, {\"Days since 10th fatality\": 23, \"a1\": 83886080.0, \"a2\": 28963.09375740093, \"a3\": 2031.8733465192963, \"a7\": 97.52109233635785}, {\"Days since 10th fatality\": 24, \"a1\": 167772160.0, \"a2\": 40959.99999999991, \"a3\": 2560.000000000001, \"a7\": 107.67201541058827}, {\"Days since 10th fatality\": 25, \"a1\": 335544320.0, \"a2\": 57926.187514801844, \"a3\": 3225.3978877308773, \"a7\": 118.87954313095564}, {\"Days since 10th fatality\": 26, \"a1\": 671088640.0, \"a2\": 81919.99999999981, \"a3\": 4063.7466930385926, \"a7\": 131.2536569612218}, {\"Days since 10th fatality\": 27, \"a1\": 1342177280.0, \"a2\": 115852.37502960366, \"a3\": 5120.000000000002, \"a7\": 144.91578628222476}, {\"Days since 10th fatality\": 28, \"a1\": 2684354560.0, \"a2\": 163839.9999999996, \"a3\": 6450.795775461755, \"a7\": 159.99999999999966}, {\"Days since 10th fatality\": 29, \"a1\": 5368709120.0, \"a2\": 231704.7500592073, \"a3\": 8127.493386077186, \"a7\": 176.65432218780956}, {\"Days since 10th fatality\": 30, \"a1\": 10737418240.0, \"a2\": 327679.9999999991, \"a3\": 10240.000000000007, \"a7\": 195.0421846727156}, {\"Days since 10th fatality\": 31, \"a1\": 21474836480.0, \"a2\": 463409.5001184145, \"a3\": 12901.59155092351, \"a7\": 215.34403082117646}, {\"Days since 10th fatality\": 32, \"a1\": 42949672960.0, \"a2\": 655359.9999999981, \"a3\": 16254.986772154372, \"a7\": 237.75908626191114}, {\"Days since 10th fatality\": 33, \"a1\": 85899345920.0, \"a2\": 926819.0002368288, \"a3\": 20480.000000000015, \"a7\": 262.5073139224435}, {\"Days since 10th fatality\": 34, \"a1\": 171798691840.0, \"a2\": 1310719.999999996, \"a3\": 25803.183101847022, \"a7\": 289.83157256444935}, {\"Days since 10th fatality\": 35, \"a1\": 343597383680.0, \"a2\": 1853638.0004736574, \"a3\": 32509.97354430875, \"a7\": 319.9999999999991}, {\"Days since 10th fatality\": 36, \"a1\": 687194767360.0, \"a2\": 2621439.9999999916, \"a3\": 40960.00000000003, \"a7\": 353.30864437561894}, {\"Days since 10th fatality\": 37, \"a1\": 1374389534720.0, \"a2\": 3707276.0009473143, \"a3\": 51606.366203694044, \"a7\": 390.084369345431}, {\"Days since 10th fatality\": 38, \"a1\": 2748779069440.0, \"a2\": 5242879.999999982, \"a3\": 65019.9470886175, \"a7\": 430.6880616423527}, {\"Days since 10th fatality\": 39, \"a1\": 5497558138880.0, \"a2\": 7414552.001894628, \"a3\": 81920.00000000007, \"a7\": 475.518172523822}, {\"Days since 10th fatality\": 40, \"a1\": 10995116277760.0, \"a2\": 10485759.999999963, \"a3\": 103212.7324073881, \"a7\": 525.0146278448866}, {\"Days since 10th fatality\": 41, \"a1\": 21990232555520.0, \"a2\": 14829104.00378925, \"a3\": 130039.89417723502, \"a7\": 579.6631451288983}, {\"Days since 10th fatality\": 42, \"a1\": 43980465111040.0, \"a2\": 20971519.99999992, \"a3\": 163840.00000000015, \"a7\": 639.9999999999978}, {\"Days since 10th fatality\": 43, \"a1\": 87960930222080.0, \"a2\": 29658208.007578496, \"a3\": 206425.4648147762, \"a7\": 706.6172887512375}, {\"Days since 10th fatality\": 44, \"a1\": 175921860444160.0, \"a2\": 41943039.999999836, \"a3\": 260079.78835447005, \"a7\": 780.1687386908616}, {\"Days since 10th fatality\": 45, \"a1\": 351843720888320.0, \"a2\": 59316416.015156984, \"a3\": 327680.0000000003, \"a7\": 861.3761232847048}, {\"Days since 10th fatality\": 46, \"a1\": 703687441776640.0, \"a2\": 83886079.99999966, \"a3\": 412850.9296295524, \"a7\": 951.0363450476436}, {\"Days since 10th fatality\": 47, \"a1\": 1407374883553280.0, \"a2\": 118632832.03031394, \"a3\": 520159.5767089401, \"a7\": 1050.0292556897725}, {\"Days since 10th fatality\": 48, \"a1\": 2814749767106560.0, \"a2\": 167772159.99999928, \"a3\": 655360.0000000006, \"a7\": 1159.3262902577962}, {\"Days since 10th fatality\": 49, \"a1\": 5629499534213120.0, \"a2\": 237265664.06062785, \"a3\": 825701.8592591049, \"a7\": 1279.999999999995}, {\"Days since 10th fatality\": 50, \"a1\": 1.125899906842624e+16, \"a2\": 335544319.9999985, \"a3\": 1040319.1534178803, \"a7\": 1413.2345775024742}, {\"Days since 10th fatality\": 51, \"a1\": 2.251799813685248e+16, \"a2\": 474531328.12125564, \"a3\": 1310720.0000000014, \"a7\": 1560.3374773817222}, {\"Days since 10th fatality\": 52, \"a1\": 4.503599627370496e+16, \"a2\": 671088639.9999969, \"a3\": 1651403.7185182099, \"a7\": 1722.7522465694087}, {\"Days since 10th fatality\": 53, \"a1\": 9.007199254740992e+16, \"a2\": 949062656.2425112, \"a3\": 2080638.3068357606, \"a7\": 1902.072690095286}, {\"Days since 10th fatality\": 54, \"a1\": 1.8014398509481984e+17, \"a2\": 1342177279.9999936, \"a3\": 2621440.000000003, \"a7\": 2100.058511379544}, {\"Days since 10th fatality\": 55, \"a1\": 3.602879701896397e+17, \"a2\": 1898125312.485022, \"a3\": 3302807.4370364198, \"a7\": 2318.652580515591}, {\"Days since 10th fatality\": 56, \"a1\": 7.205759403792794e+17, \"a2\": 2684354559.9999866, \"a3\": 4161276.6136715217, \"a7\": 2559.9999999999886}, {\"Days since 10th fatality\": 57, \"a1\": 1.4411518807585587e+18, \"a2\": 3796250624.9700427, \"a3\": 5242880.000000006, \"a7\": 2826.469155004947}, {\"Days since 10th fatality\": 58, \"a1\": 2.8823037615171174e+18, \"a2\": 5368709119.999972, \"a3\": 6605614.87407284, \"a7\": 3120.6749547634427}, {\"Days since 10th fatality\": 59, \"a1\": 5.764607523034235e+18, \"a2\": 7592501249.940084, \"a3\": 8322553.227343043, \"a7\": 3445.5044931388156}, {\"Days since 10th fatality\": 60, \"a1\": 1.152921504606847e+19, \"a2\": 10737418239.999943, \"a3\": 10485760.000000015, \"a7\": 3804.14538019057}, {\"Days since 10th fatality\": 61, \"a1\": 2.305843009213694e+19, \"a2\": 15185002499.880165, \"a3\": 13211229.74814568, \"a7\": 4200.117022759086}, {\"Days since 10th fatality\": 62, \"a1\": 4.611686018427388e+19, \"a2\": 21474836479.99988, \"a3\": 16645106.45468609, \"a7\": 4637.3051610311795}, {\"Days since 10th fatality\": 63, \"a1\": 9.223372036854776e+19, \"a2\": 30370004999.760326, \"a3\": 20971520.00000003, \"a7\": 5119.9999999999745}, {\"Days since 10th fatality\": 64, \"a1\": 1.844674407370955e+20, \"a2\": 42949672959.999756, \"a3\": 26422459.49629136, \"a7\": 5652.93831000989}, {\"Days since 10th fatality\": 65, \"a1\": 3.68934881474191e+20, \"a2\": 60740009999.520645, \"a3\": 33290212.90937218, \"a7\": 6241.349909526882}, {\"Days since 10th fatality\": 66, \"a1\": 7.37869762948382e+20, \"a2\": 85899345919.9995, \"a3\": 41943040.00000006, \"a7\": 6891.008986277628}, {\"Days since 10th fatality\": 67, \"a1\": 1.475739525896764e+21, \"a2\": 121480019999.04128, \"a3\": 52844918.99258274, \"a7\": 7608.290760381136}, {\"Days since 10th fatality\": 68, \"a1\": 2.951479051793528e+21, \"a2\": 171798691839.99896, \"a3\": 66580425.81874437, \"a7\": 8400.234045518167}], \"data-5a9678149300e0cfb02877354aa5cecd\": [{\"Days since 10th fatality\": 10, \"value\": 20000}], \"data-5e3fedd4dc5f36dcbf98e456d9db5b30\": [{\"Days since 10th fatality\": 22, \"value\": 30000}], \"data-8ac32b96edad120556a5cdc8e277af90\": [{\"Days since 10th fatality\": 36, \"value\": 50000}], \"data-5800a48de2a1967c8ff97a5136e68213\": [{\"Days since 10th fatality\": 36, \"value\": 400}]}}, {\"mode\": \"vega-lite\"});\n",
              "</script>"
            ]
          },
          "metadata": {
            "tags": []
          },
          "execution_count": 14
        }
      ]
    },
    {
      "cell_type": "code",
      "metadata": {
        "id": "SlH_bsANYwMo",
        "colab_type": "code",
        "colab": {
          "base_uri": "https://localhost:8080/",
          "height": 34
        },
        "outputId": "fd0098eb-8c25-4f6d-bf28-bd035c6e4c41"
      },
      "source": [
        "#hide_input\n",
        "HTML(f'<small class=\"float-right\">Author: @AtulAcharya (based on code credit: @PratapVardhan, viz credit: @jburnmurdoch<)/small>')"
      ],
      "execution_count": 15,
      "outputs": [
        {
          "output_type": "execute_result",
          "data": {
            "text/html": [
              "<small class=\"float-right\">Author: @AtulAcharya (based on code credit: @PratapVardhan, viz credit: @jburnmurdoch<)/small>"
            ],
            "text/plain": [
              "<IPython.core.display.HTML object>"
            ]
          },
          "metadata": {
            "tags": []
          },
          "execution_count": 15
        }
      ]
    },
    {
      "cell_type": "markdown",
      "metadata": {
        "id": "NnSGktsjmhDS",
        "colab_type": "text"
      },
      "source": [
        "### Sources\n",
        "Interactive by [@AtulAcharya](https://twitter.com/AtulAcharya)[^1]\n",
        "\n",
        "Based on code by [@PratapVardhan](https://github.com/pratapvardhan/notebooks/blob/master/covid19/covid19-compare-country-death-trajectories.ipynb)\n",
        "\n",
        "Visualization style: [John Burn-Murdoch (@jburnmurdoch)](https://twitter.com/jburnmurdoch) of [Financial Times](https://www.ft.com/coronavirus-latest)\n",
        "\n",
        "[^1]: Source: [\"2019 Novel Coronavirus COVID-19 (2019-nCoV) Data Repository by Johns Hopkins CSSE\"](https://systems.jhu.edu/research/public-health/ncov/) [GitHub repository](https://github.com/CSSEGISandData/COVID-19). \n",
        "\n"
      ]
    }
  ]
}